{
  "nbformat": 4,
  "nbformat_minor": 0,
  "metadata": {
    "colab": {
      "name": "Feature Selection(KGP Talike)Step Forward, Step Backward and Exhaustive Feature Selection of Wrapper Method.ipynb",
      "provenance": [],
      "collapsed_sections": [],
      "authorship_tag": "ABX9TyM2pOe/45htAB+OsM5cC3X4",
      "include_colab_link": true
    },
    "kernelspec": {
      "name": "python3",
      "display_name": "Python 3"
    }
  },
  "cells": [
    {
      "cell_type": "markdown",
      "metadata": {
        "id": "view-in-github",
        "colab_type": "text"
      },
      "source": [
        "<a href=\"https://colab.research.google.com/github/KodumuruRaja/Feature-Selection/blob/main/Feature-Selection-(Step%20Forward%2C%20Step%20Backward%20and%20Exhaustive%20Feature%20Selection%20(Wrapper%20Method)).ipynb\" target=\"_parent\"><img src=\"https://colab.research.google.com/assets/colab-badge.svg\" alt=\"Open In Colab\"/></a>"
      ]
    },
    {
      "cell_type": "code",
      "metadata": {
        "colab": {
          "base_uri": "https://localhost:8080/"
        },
        "id": "wwuXQ88zIHwB",
        "outputId": "b087ff0a-f154-4b98-9396-d5f7179c175e"
      },
      "source": [
        "pip install mlxtend"
      ],
      "execution_count": null,
      "outputs": [
        {
          "output_type": "stream",
          "text": [
            "Requirement already satisfied: mlxtend in /usr/local/lib/python3.6/dist-packages (0.14.0)\n",
            "Requirement already satisfied: numpy>=1.10.4 in /usr/local/lib/python3.6/dist-packages (from mlxtend) (1.19.5)\n",
            "Requirement already satisfied: scipy>=0.17 in /usr/local/lib/python3.6/dist-packages (from mlxtend) (1.4.1)\n",
            "Requirement already satisfied: setuptools in /usr/local/lib/python3.6/dist-packages (from mlxtend) (53.0.0)\n",
            "Requirement already satisfied: matplotlib>=1.5.1 in /usr/local/lib/python3.6/dist-packages (from mlxtend) (3.2.2)\n",
            "Requirement already satisfied: pandas>=0.17.1 in /usr/local/lib/python3.6/dist-packages (from mlxtend) (1.1.5)\n",
            "Requirement already satisfied: scikit-learn>=0.18 in /usr/local/lib/python3.6/dist-packages (from mlxtend) (0.22.2.post1)\n",
            "Requirement already satisfied: kiwisolver>=1.0.1 in /usr/local/lib/python3.6/dist-packages (from matplotlib>=1.5.1->mlxtend) (1.3.1)\n",
            "Requirement already satisfied: python-dateutil>=2.1 in /usr/local/lib/python3.6/dist-packages (from matplotlib>=1.5.1->mlxtend) (2.8.1)\n",
            "Requirement already satisfied: pyparsing!=2.0.4,!=2.1.2,!=2.1.6,>=2.0.1 in /usr/local/lib/python3.6/dist-packages (from matplotlib>=1.5.1->mlxtend) (2.4.7)\n",
            "Requirement already satisfied: cycler>=0.10 in /usr/local/lib/python3.6/dist-packages (from matplotlib>=1.5.1->mlxtend) (0.10.0)\n",
            "Requirement already satisfied: pytz>=2017.2 in /usr/local/lib/python3.6/dist-packages (from pandas>=0.17.1->mlxtend) (2018.9)\n",
            "Requirement already satisfied: joblib>=0.11 in /usr/local/lib/python3.6/dist-packages (from scikit-learn>=0.18->mlxtend) (1.0.0)\n",
            "Requirement already satisfied: six>=1.5 in /usr/local/lib/python3.6/dist-packages (from python-dateutil>=2.1->matplotlib>=1.5.1->mlxtend) (1.15.0)\n"
          ],
          "name": "stdout"
        }
      ]
    },
    {
      "cell_type": "markdown",
      "metadata": {
        "id": "LMW0NIxQLaFO"
      },
      "source": [
        "# **Step Forward Selection (SFS)**"
      ]
    },
    {
      "cell_type": "code",
      "metadata": {
        "id": "_Qs73w5gIlDN"
      },
      "source": [
        "import numpy as np\r\n",
        "import pandas as pd\r\n",
        "import seaborn as sns\r\n",
        "import matplotlib.pyplot as plt"
      ],
      "execution_count": null,
      "outputs": []
    },
    {
      "cell_type": "code",
      "metadata": {
        "colab": {
          "base_uri": "https://localhost:8080/"
        },
        "id": "7IviDh7QJigF",
        "outputId": "a6e18b6b-b001-4c2e-cb0c-af03f11e3b57"
      },
      "source": [
        "from sklearn.model_selection import train_test_split\r\n",
        "from sklearn.ensemble import RandomForestClassifier\r\n",
        "from sklearn.metrics import roc_auc_score\r\n",
        "from mlxtend.feature_selection import SequentialFeatureSelector as SFS"
      ],
      "execution_count": null,
      "outputs": [
        {
          "output_type": "stream",
          "text": [
            "/usr/local/lib/python3.6/dist-packages/sklearn/externals/joblib/__init__.py:15: FutureWarning: sklearn.externals.joblib is deprecated in 0.21 and will be removed in 0.23. Please import this functionality directly from joblib, which can be installed with: pip install joblib. If this warning is raised when loading pickled models, you may need to re-serialize those models with scikit-learn 0.21+.\n",
            "  warnings.warn(msg, category=FutureWarning)\n"
          ],
          "name": "stderr"
        }
      ]
    },
    {
      "cell_type": "code",
      "metadata": {
        "id": "dSfqJdvOKCnN"
      },
      "source": [
        "from sklearn.datasets import load_wine\r\n",
        "from sklearn.preprocessing import StandardScaler"
      ],
      "execution_count": null,
      "outputs": []
    },
    {
      "cell_type": "code",
      "metadata": {
        "id": "4w86MsxwK8Cv"
      },
      "source": [
        "data=load_wine()"
      ],
      "execution_count": null,
      "outputs": []
    },
    {
      "cell_type": "code",
      "metadata": {
        "colab": {
          "base_uri": "https://localhost:8080/"
        },
        "id": "xP3-NY9WLlOJ",
        "outputId": "64681893-7422-4c74-e194-0c73c93fab4b"
      },
      "source": [
        "data.keys()"
      ],
      "execution_count": null,
      "outputs": [
        {
          "output_type": "execute_result",
          "data": {
            "text/plain": [
              "dict_keys(['data', 'target', 'target_names', 'DESCR', 'feature_names'])"
            ]
          },
          "metadata": {
            "tags": []
          },
          "execution_count": 6
        }
      ]
    },
    {
      "cell_type": "code",
      "metadata": {
        "colab": {
          "base_uri": "https://localhost:8080/",
          "height": 120
        },
        "id": "O2PZCoeILmnW",
        "outputId": "e57542f5-be18-42bf-d9ef-072c4a558acf"
      },
      "source": [
        "data.DESCR"
      ],
      "execution_count": null,
      "outputs": [
        {
          "output_type": "execute_result",
          "data": {
            "application/vnd.google.colaboratory.intrinsic+json": {
              "type": "string"
            },
            "text/plain": [
              "'.. _wine_dataset:\\n\\nWine recognition dataset\\n------------------------\\n\\n**Data Set Characteristics:**\\n\\n    :Number of Instances: 178 (50 in each of three classes)\\n    :Number of Attributes: 13 numeric, predictive attributes and the class\\n    :Attribute Information:\\n \\t\\t- Alcohol\\n \\t\\t- Malic acid\\n \\t\\t- Ash\\n\\t\\t- Alcalinity of ash  \\n \\t\\t- Magnesium\\n\\t\\t- Total phenols\\n \\t\\t- Flavanoids\\n \\t\\t- Nonflavanoid phenols\\n \\t\\t- Proanthocyanins\\n\\t\\t- Color intensity\\n \\t\\t- Hue\\n \\t\\t- OD280/OD315 of diluted wines\\n \\t\\t- Proline\\n\\n    - class:\\n            - class_0\\n            - class_1\\n            - class_2\\n\\t\\t\\n    :Summary Statistics:\\n    \\n    ============================= ==== ===== ======= =====\\n                                   Min   Max   Mean     SD\\n    ============================= ==== ===== ======= =====\\n    Alcohol:                      11.0  14.8    13.0   0.8\\n    Malic Acid:                   0.74  5.80    2.34  1.12\\n    Ash:                          1.36  3.23    2.36  0.27\\n    Alcalinity of Ash:            10.6  30.0    19.5   3.3\\n    Magnesium:                    70.0 162.0    99.7  14.3\\n    Total Phenols:                0.98  3.88    2.29  0.63\\n    Flavanoids:                   0.34  5.08    2.03  1.00\\n    Nonflavanoid Phenols:         0.13  0.66    0.36  0.12\\n    Proanthocyanins:              0.41  3.58    1.59  0.57\\n    Colour Intensity:              1.3  13.0     5.1   2.3\\n    Hue:                          0.48  1.71    0.96  0.23\\n    OD280/OD315 of diluted wines: 1.27  4.00    2.61  0.71\\n    Proline:                       278  1680     746   315\\n    ============================= ==== ===== ======= =====\\n\\n    :Missing Attribute Values: None\\n    :Class Distribution: class_0 (59), class_1 (71), class_2 (48)\\n    :Creator: R.A. Fisher\\n    :Donor: Michael Marshall (MARSHALL%PLU@io.arc.nasa.gov)\\n    :Date: July, 1988\\n\\nThis is a copy of UCI ML Wine recognition datasets.\\nhttps://archive.ics.uci.edu/ml/machine-learning-databases/wine/wine.data\\n\\nThe data is the results of a chemical analysis of wines grown in the same\\nregion in Italy by three different cultivators. There are thirteen different\\nmeasurements taken for different constituents found in the three types of\\nwine.\\n\\nOriginal Owners: \\n\\nForina, M. et al, PARVUS - \\nAn Extendible Package for Data Exploration, Classification and Correlation. \\nInstitute of Pharmaceutical and Food Analysis and Technologies,\\nVia Brigata Salerno, 16147 Genoa, Italy.\\n\\nCitation:\\n\\nLichman, M. (2013). UCI Machine Learning Repository\\n[https://archive.ics.uci.edu/ml]. Irvine, CA: University of California,\\nSchool of Information and Computer Science. \\n\\n.. topic:: References\\n\\n  (1) S. Aeberhard, D. Coomans and O. de Vel, \\n  Comparison of Classifiers in High Dimensional Settings, \\n  Tech. Rep. no. 92-02, (1992), Dept. of Computer Science and Dept. of  \\n  Mathematics and Statistics, James Cook University of North Queensland. \\n  (Also submitted to Technometrics). \\n\\n  The data was used with many others for comparing various \\n  classifiers. The classes are separable, though only RDA \\n  has achieved 100% correct classification. \\n  (RDA : 100%, QDA 99.4%, LDA 98.9%, 1NN 96.1% (z-transformed data)) \\n  (All results using the leave-one-out technique) \\n\\n  (2) S. Aeberhard, D. Coomans and O. de Vel, \\n  \"THE CLASSIFICATION PERFORMANCE OF RDA\" \\n  Tech. Rep. no. 92-01, (1992), Dept. of Computer Science and Dept. of \\n  Mathematics and Statistics, James Cook University of North Queensland. \\n  (Also submitted to Journal of Chemometrics).\\n'"
            ]
          },
          "metadata": {
            "tags": []
          },
          "execution_count": 7
        }
      ]
    },
    {
      "cell_type": "code",
      "metadata": {
        "id": "8ao7ry8FLo1v"
      },
      "source": [
        "x=pd.DataFrame(data.data)\r\n",
        "y=data.target"
      ],
      "execution_count": null,
      "outputs": []
    },
    {
      "cell_type": "code",
      "metadata": {
        "colab": {
          "base_uri": "https://localhost:8080/",
          "height": 215
        },
        "id": "EpBrv79dMRJt",
        "outputId": "454b744f-fe61-467f-952b-9791d782a021"
      },
      "source": [
        "x.columns=data.feature_names\r\n",
        "x.head()"
      ],
      "execution_count": null,
      "outputs": [
        {
          "output_type": "execute_result",
          "data": {
            "text/html": [
              "<div>\n",
              "<style scoped>\n",
              "    .dataframe tbody tr th:only-of-type {\n",
              "        vertical-align: middle;\n",
              "    }\n",
              "\n",
              "    .dataframe tbody tr th {\n",
              "        vertical-align: top;\n",
              "    }\n",
              "\n",
              "    .dataframe thead th {\n",
              "        text-align: right;\n",
              "    }\n",
              "</style>\n",
              "<table border=\"1\" class=\"dataframe\">\n",
              "  <thead>\n",
              "    <tr style=\"text-align: right;\">\n",
              "      <th></th>\n",
              "      <th>alcohol</th>\n",
              "      <th>malic_acid</th>\n",
              "      <th>ash</th>\n",
              "      <th>alcalinity_of_ash</th>\n",
              "      <th>magnesium</th>\n",
              "      <th>total_phenols</th>\n",
              "      <th>flavanoids</th>\n",
              "      <th>nonflavanoid_phenols</th>\n",
              "      <th>proanthocyanins</th>\n",
              "      <th>color_intensity</th>\n",
              "      <th>hue</th>\n",
              "      <th>od280/od315_of_diluted_wines</th>\n",
              "      <th>proline</th>\n",
              "    </tr>\n",
              "  </thead>\n",
              "  <tbody>\n",
              "    <tr>\n",
              "      <th>0</th>\n",
              "      <td>14.23</td>\n",
              "      <td>1.71</td>\n",
              "      <td>2.43</td>\n",
              "      <td>15.6</td>\n",
              "      <td>127.0</td>\n",
              "      <td>2.80</td>\n",
              "      <td>3.06</td>\n",
              "      <td>0.28</td>\n",
              "      <td>2.29</td>\n",
              "      <td>5.64</td>\n",
              "      <td>1.04</td>\n",
              "      <td>3.92</td>\n",
              "      <td>1065.0</td>\n",
              "    </tr>\n",
              "    <tr>\n",
              "      <th>1</th>\n",
              "      <td>13.20</td>\n",
              "      <td>1.78</td>\n",
              "      <td>2.14</td>\n",
              "      <td>11.2</td>\n",
              "      <td>100.0</td>\n",
              "      <td>2.65</td>\n",
              "      <td>2.76</td>\n",
              "      <td>0.26</td>\n",
              "      <td>1.28</td>\n",
              "      <td>4.38</td>\n",
              "      <td>1.05</td>\n",
              "      <td>3.40</td>\n",
              "      <td>1050.0</td>\n",
              "    </tr>\n",
              "    <tr>\n",
              "      <th>2</th>\n",
              "      <td>13.16</td>\n",
              "      <td>2.36</td>\n",
              "      <td>2.67</td>\n",
              "      <td>18.6</td>\n",
              "      <td>101.0</td>\n",
              "      <td>2.80</td>\n",
              "      <td>3.24</td>\n",
              "      <td>0.30</td>\n",
              "      <td>2.81</td>\n",
              "      <td>5.68</td>\n",
              "      <td>1.03</td>\n",
              "      <td>3.17</td>\n",
              "      <td>1185.0</td>\n",
              "    </tr>\n",
              "    <tr>\n",
              "      <th>3</th>\n",
              "      <td>14.37</td>\n",
              "      <td>1.95</td>\n",
              "      <td>2.50</td>\n",
              "      <td>16.8</td>\n",
              "      <td>113.0</td>\n",
              "      <td>3.85</td>\n",
              "      <td>3.49</td>\n",
              "      <td>0.24</td>\n",
              "      <td>2.18</td>\n",
              "      <td>7.80</td>\n",
              "      <td>0.86</td>\n",
              "      <td>3.45</td>\n",
              "      <td>1480.0</td>\n",
              "    </tr>\n",
              "    <tr>\n",
              "      <th>4</th>\n",
              "      <td>13.24</td>\n",
              "      <td>2.59</td>\n",
              "      <td>2.87</td>\n",
              "      <td>21.0</td>\n",
              "      <td>118.0</td>\n",
              "      <td>2.80</td>\n",
              "      <td>2.69</td>\n",
              "      <td>0.39</td>\n",
              "      <td>1.82</td>\n",
              "      <td>4.32</td>\n",
              "      <td>1.04</td>\n",
              "      <td>2.93</td>\n",
              "      <td>735.0</td>\n",
              "    </tr>\n",
              "  </tbody>\n",
              "</table>\n",
              "</div>"
            ],
            "text/plain": [
              "   alcohol  malic_acid   ash  ...   hue  od280/od315_of_diluted_wines  proline\n",
              "0    14.23        1.71  2.43  ...  1.04                          3.92   1065.0\n",
              "1    13.20        1.78  2.14  ...  1.05                          3.40   1050.0\n",
              "2    13.16        2.36  2.67  ...  1.03                          3.17   1185.0\n",
              "3    14.37        1.95  2.50  ...  0.86                          3.45   1480.0\n",
              "4    13.24        2.59  2.87  ...  1.04                          2.93    735.0\n",
              "\n",
              "[5 rows x 13 columns]"
            ]
          },
          "metadata": {
            "tags": []
          },
          "execution_count": 9
        }
      ]
    },
    {
      "cell_type": "code",
      "metadata": {
        "colab": {
          "base_uri": "https://localhost:8080/"
        },
        "id": "GM4YdTSKMSJt",
        "outputId": "015a543a-7b5f-44d0-b38f-c2a95196e665"
      },
      "source": [
        "x.isnull().sum()"
      ],
      "execution_count": null,
      "outputs": [
        {
          "output_type": "execute_result",
          "data": {
            "text/plain": [
              "alcohol                         0\n",
              "malic_acid                      0\n",
              "ash                             0\n",
              "alcalinity_of_ash               0\n",
              "magnesium                       0\n",
              "total_phenols                   0\n",
              "flavanoids                      0\n",
              "nonflavanoid_phenols            0\n",
              "proanthocyanins                 0\n",
              "color_intensity                 0\n",
              "hue                             0\n",
              "od280/od315_of_diluted_wines    0\n",
              "proline                         0\n",
              "dtype: int64"
            ]
          },
          "metadata": {
            "tags": []
          },
          "execution_count": 10
        }
      ]
    },
    {
      "cell_type": "code",
      "metadata": {
        "id": "JC192Te3Ml7O"
      },
      "source": [
        "x_train,x_test,y_train,y_test=train_test_split(x,y,test_size=0.2,random_state=0)"
      ],
      "execution_count": null,
      "outputs": []
    },
    {
      "cell_type": "code",
      "metadata": {
        "colab": {
          "base_uri": "https://localhost:8080/"
        },
        "id": "_PTaPxEKM5Sq",
        "outputId": "f1795c62-7e9d-4375-c304-c41a8383fad2"
      },
      "source": [
        "x_train.shape,x_test.shape"
      ],
      "execution_count": null,
      "outputs": [
        {
          "output_type": "execute_result",
          "data": {
            "text/plain": [
              "((142, 13), (36, 13))"
            ]
          },
          "metadata": {
            "tags": []
          },
          "execution_count": 12
        }
      ]
    },
    {
      "cell_type": "markdown",
      "metadata": {
        "id": "O05ywTpONSUB"
      },
      "source": [
        "# **Step Forward Feature Selection (SFS)**"
      ]
    },
    {
      "cell_type": "code",
      "metadata": {
        "colab": {
          "base_uri": "https://localhost:8080/"
        },
        "id": "UKkvQI6IM74f",
        "outputId": "af48a355-ca9b-4be0-81fe-de01ebbdc0e5"
      },
      "source": [
        "# This is wrt to taken 7 features out of 13\r\n",
        "sfs=SFS(RandomForestClassifier(n_estimators=100,random_state=0,n_jobs=-1),\r\n",
        "        k_features=7,\r\n",
        "        forward=True,\r\n",
        "        floating=False,\r\n",
        "        verbose=2,\r\n",
        "        scoring='accuracy',\r\n",
        "        cv=4,\r\n",
        "        n_jobs=-1).fit(x_train,y_train)\r\n"
      ],
      "execution_count": null,
      "outputs": [
        {
          "output_type": "stream",
          "text": [
            "[Parallel(n_jobs=-1)]: Using backend LokyBackend with 2 concurrent workers.\n",
            "[Parallel(n_jobs=-1)]: Done  13 out of  13 | elapsed:   11.3s finished\n",
            "\n",
            "[2021-02-09 15:55:54] Features: 1/7 -- score: 0.7674603174603174[Parallel(n_jobs=-1)]: Using backend LokyBackend with 2 concurrent workers.\n",
            "[Parallel(n_jobs=-1)]: Done  12 out of  12 | elapsed:    9.1s finished\n",
            "\n",
            "[2021-02-09 15:56:03] Features: 2/7 -- score: 0.9718253968253968[Parallel(n_jobs=-1)]: Using backend LokyBackend with 2 concurrent workers.\n",
            "[Parallel(n_jobs=-1)]: Done  11 out of  11 | elapsed:    8.9s finished\n",
            "\n",
            "[2021-02-09 15:56:12] Features: 3/7 -- score: 0.9859126984126985[Parallel(n_jobs=-1)]: Using backend LokyBackend with 2 concurrent workers.\n",
            "[Parallel(n_jobs=-1)]: Done  10 out of  10 | elapsed:    7.6s finished\n",
            "\n",
            "[2021-02-09 15:56:20] Features: 4/7 -- score: 0.9789682539682539[Parallel(n_jobs=-1)]: Using backend LokyBackend with 2 concurrent workers.\n",
            "[Parallel(n_jobs=-1)]: Done   9 out of   9 | elapsed:    7.3s finished\n",
            "\n",
            "[2021-02-09 15:56:27] Features: 5/7 -- score: 0.9720238095238095[Parallel(n_jobs=-1)]: Using backend LokyBackend with 2 concurrent workers.\n",
            "[Parallel(n_jobs=-1)]: Done   8 out of   8 | elapsed:    6.1s finished\n",
            "\n",
            "[2021-02-09 15:56:33] Features: 6/7 -- score: 0.9789682539682539[Parallel(n_jobs=-1)]: Using backend LokyBackend with 2 concurrent workers.\n",
            "[Parallel(n_jobs=-1)]: Done   7 out of   7 | elapsed:    5.8s finished\n",
            "\n",
            "[2021-02-09 15:56:39] Features: 7/7 -- score: 0.9791666666666666"
          ],
          "name": "stderr"
        }
      ]
    },
    {
      "cell_type": "code",
      "metadata": {
        "colab": {
          "base_uri": "https://localhost:8080/"
        },
        "id": "08hoJN7FQWJw",
        "outputId": "a03d994e-f9c8-4fb4-99ad-97d053a04dad"
      },
      "source": [
        "sfs.k_feature_names_"
      ],
      "execution_count": null,
      "outputs": [
        {
          "output_type": "execute_result",
          "data": {
            "text/plain": [
              "('alcohol',\n",
              " 'ash',\n",
              " 'magnesium',\n",
              " 'flavanoids',\n",
              " 'proanthocyanins',\n",
              " 'color_intensity',\n",
              " 'proline')"
            ]
          },
          "metadata": {
            "tags": []
          },
          "execution_count": 14
        }
      ]
    },
    {
      "cell_type": "code",
      "metadata": {
        "colab": {
          "base_uri": "https://localhost:8080/"
        },
        "id": "XfVHROD_QbzK",
        "outputId": "584f7269-4717-4db9-f5bd-b493892eddac"
      },
      "source": [
        "sfs.k_feature_idx_"
      ],
      "execution_count": null,
      "outputs": [
        {
          "output_type": "execute_result",
          "data": {
            "text/plain": [
              "(0, 2, 4, 6, 8, 9, 12)"
            ]
          },
          "metadata": {
            "tags": []
          },
          "execution_count": 15
        }
      ]
    },
    {
      "cell_type": "code",
      "metadata": {
        "colab": {
          "base_uri": "https://localhost:8080/"
        },
        "id": "v2zS3kpiQkHc",
        "outputId": "ae3ce029-1868-4aeb-e910-1036eefb8d45"
      },
      "source": [
        "sfs.k_score_"
      ],
      "execution_count": null,
      "outputs": [
        {
          "output_type": "execute_result",
          "data": {
            "text/plain": [
              "0.9791666666666666"
            ]
          },
          "metadata": {
            "tags": []
          },
          "execution_count": 16
        }
      ]
    },
    {
      "cell_type": "code",
      "metadata": {
        "colab": {
          "base_uri": "https://localhost:8080/",
          "height": 254
        },
        "id": "GU2hG6fNRo5h",
        "outputId": "d03e7321-e71b-4228-b600-3aa90d8beaa9"
      },
      "source": [
        "pd.DataFrame.from_dict(sfs.get_metric_dict()).T"
      ],
      "execution_count": null,
      "outputs": [
        {
          "output_type": "execute_result",
          "data": {
            "text/html": [
              "<div>\n",
              "<style scoped>\n",
              "    .dataframe tbody tr th:only-of-type {\n",
              "        vertical-align: middle;\n",
              "    }\n",
              "\n",
              "    .dataframe tbody tr th {\n",
              "        vertical-align: top;\n",
              "    }\n",
              "\n",
              "    .dataframe thead th {\n",
              "        text-align: right;\n",
              "    }\n",
              "</style>\n",
              "<table border=\"1\" class=\"dataframe\">\n",
              "  <thead>\n",
              "    <tr style=\"text-align: right;\">\n",
              "      <th></th>\n",
              "      <th>feature_idx</th>\n",
              "      <th>cv_scores</th>\n",
              "      <th>avg_score</th>\n",
              "      <th>feature_names</th>\n",
              "      <th>ci_bound</th>\n",
              "      <th>std_dev</th>\n",
              "      <th>std_err</th>\n",
              "    </tr>\n",
              "  </thead>\n",
              "  <tbody>\n",
              "    <tr>\n",
              "      <th>1</th>\n",
              "      <td>(6,)</td>\n",
              "      <td>[0.7222222222222222, 0.8333333333333334, 0.742...</td>\n",
              "      <td>0.76746</td>\n",
              "      <td>(flavanoids,)</td>\n",
              "      <td>0.0670901</td>\n",
              "      <td>0.0418533</td>\n",
              "      <td>0.024164</td>\n",
              "    </tr>\n",
              "    <tr>\n",
              "      <th>2</th>\n",
              "      <td>(6, 9)</td>\n",
              "      <td>[0.9444444444444444, 1.0, 0.9714285714285714, ...</td>\n",
              "      <td>0.971825</td>\n",
              "      <td>(flavanoids, color_intensity)</td>\n",
              "      <td>0.031492</td>\n",
              "      <td>0.0196459</td>\n",
              "      <td>0.0113425</td>\n",
              "    </tr>\n",
              "    <tr>\n",
              "      <th>3</th>\n",
              "      <td>(4, 6, 9)</td>\n",
              "      <td>[0.9722222222222222, 1.0, 0.9714285714285714, ...</td>\n",
              "      <td>0.985913</td>\n",
              "      <td>(magnesium, flavanoids, color_intensity)</td>\n",
              "      <td>0.0225862</td>\n",
              "      <td>0.0140901</td>\n",
              "      <td>0.00813492</td>\n",
              "    </tr>\n",
              "    <tr>\n",
              "      <th>4</th>\n",
              "      <td>(4, 6, 9, 12)</td>\n",
              "      <td>[0.9722222222222222, 0.9722222222222222, 0.971...</td>\n",
              "      <td>0.978968</td>\n",
              "      <td>(magnesium, flavanoids, color_intensity, proline)</td>\n",
              "      <td>0.0194714</td>\n",
              "      <td>0.012147</td>\n",
              "      <td>0.00701308</td>\n",
              "    </tr>\n",
              "    <tr>\n",
              "      <th>5</th>\n",
              "      <td>(2, 4, 6, 9, 12)</td>\n",
              "      <td>[0.9444444444444444, 0.9722222222222222, 0.971...</td>\n",
              "      <td>0.972024</td>\n",
              "      <td>(ash, magnesium, flavanoids, color_intensity, ...</td>\n",
              "      <td>0.0314903</td>\n",
              "      <td>0.0196449</td>\n",
              "      <td>0.011342</td>\n",
              "    </tr>\n",
              "    <tr>\n",
              "      <th>6</th>\n",
              "      <td>(2, 4, 6, 8, 9, 12)</td>\n",
              "      <td>[0.9722222222222222, 0.9722222222222222, 0.971...</td>\n",
              "      <td>0.978968</td>\n",
              "      <td>(ash, magnesium, flavanoids, proanthocyanins, ...</td>\n",
              "      <td>0.0194714</td>\n",
              "      <td>0.012147</td>\n",
              "      <td>0.00701308</td>\n",
              "    </tr>\n",
              "    <tr>\n",
              "      <th>7</th>\n",
              "      <td>(0, 2, 4, 6, 8, 9, 12)</td>\n",
              "      <td>[0.9444444444444444, 0.9722222222222222, 1.0, ...</td>\n",
              "      <td>0.979167</td>\n",
              "      <td>(alcohol, ash, magnesium, flavanoids, proantho...</td>\n",
              "      <td>0.0369201</td>\n",
              "      <td>0.0230321</td>\n",
              "      <td>0.0132976</td>\n",
              "    </tr>\n",
              "  </tbody>\n",
              "</table>\n",
              "</div>"
            ],
            "text/plain": [
              "              feature_idx  ...     std_err\n",
              "1                    (6,)  ...    0.024164\n",
              "2                  (6, 9)  ...   0.0113425\n",
              "3               (4, 6, 9)  ...  0.00813492\n",
              "4           (4, 6, 9, 12)  ...  0.00701308\n",
              "5        (2, 4, 6, 9, 12)  ...    0.011342\n",
              "6     (2, 4, 6, 8, 9, 12)  ...  0.00701308\n",
              "7  (0, 2, 4, 6, 8, 9, 12)  ...   0.0132976\n",
              "\n",
              "[7 rows x 7 columns]"
            ]
          },
          "metadata": {
            "tags": []
          },
          "execution_count": 17
        }
      ]
    },
    {
      "cell_type": "markdown",
      "metadata": {
        "id": "vgVBXB-HTomo"
      },
      "source": [
        "# **Step Backward Selection (SBS)**"
      ]
    },
    {
      "cell_type": "code",
      "metadata": {
        "colab": {
          "base_uri": "https://localhost:8080/"
        },
        "id": "Pvycd9maTW3r",
        "outputId": "7415014e-2086-457f-f6bb-41b3b1e8193e"
      },
      "source": [
        "# This is wrt to taken range of features out of 13 features\r\n",
        "sfs=SFS(RandomForestClassifier(n_estimators=100,random_state=0,n_jobs=-1),\r\n",
        "        k_features=(1,8),\r\n",
        "        forward=True,\r\n",
        "        floating=False,\r\n",
        "        verbose=2,\r\n",
        "        scoring='accuracy',\r\n",
        "        cv=4,\r\n",
        "        n_jobs=-1).fit(x_train,y_train)"
      ],
      "execution_count": null,
      "outputs": [
        {
          "output_type": "stream",
          "text": [
            "[Parallel(n_jobs=-1)]: Using backend LokyBackend with 2 concurrent workers.\n",
            "[Parallel(n_jobs=-1)]: Done  13 out of  13 | elapsed:   10.3s finished\n",
            "\n",
            "[2021-02-09 15:56:49] Features: 1/8 -- score: 0.7674603174603174[Parallel(n_jobs=-1)]: Using backend LokyBackend with 2 concurrent workers.\n",
            "[Parallel(n_jobs=-1)]: Done  12 out of  12 | elapsed:    9.0s finished\n",
            "\n",
            "[2021-02-09 15:56:58] Features: 2/8 -- score: 0.9718253968253968[Parallel(n_jobs=-1)]: Using backend LokyBackend with 2 concurrent workers.\n",
            "[Parallel(n_jobs=-1)]: Done  11 out of  11 | elapsed:    8.8s finished\n",
            "\n",
            "[2021-02-09 15:57:07] Features: 3/8 -- score: 0.9859126984126985[Parallel(n_jobs=-1)]: Using backend LokyBackend with 2 concurrent workers.\n",
            "[Parallel(n_jobs=-1)]: Done  10 out of  10 | elapsed:    7.4s finished\n",
            "\n",
            "[2021-02-09 15:57:15] Features: 4/8 -- score: 0.9789682539682539[Parallel(n_jobs=-1)]: Using backend LokyBackend with 2 concurrent workers.\n",
            "[Parallel(n_jobs=-1)]: Done   9 out of   9 | elapsed:    7.3s finished\n",
            "\n",
            "[2021-02-09 15:57:22] Features: 5/8 -- score: 0.9720238095238095[Parallel(n_jobs=-1)]: Using backend LokyBackend with 2 concurrent workers.\n",
            "[Parallel(n_jobs=-1)]: Done   8 out of   8 | elapsed:    6.0s finished\n",
            "\n",
            "[2021-02-09 15:57:28] Features: 6/8 -- score: 0.9789682539682539[Parallel(n_jobs=-1)]: Using backend LokyBackend with 2 concurrent workers.\n",
            "[Parallel(n_jobs=-1)]: Done   7 out of   7 | elapsed:    5.8s finished\n",
            "\n",
            "[2021-02-09 15:57:34] Features: 7/8 -- score: 0.9791666666666666[Parallel(n_jobs=-1)]: Using backend LokyBackend with 2 concurrent workers.\n",
            "[Parallel(n_jobs=-1)]: Done   6 out of   6 | elapsed:    4.5s finished\n",
            "\n",
            "[2021-02-09 15:57:38] Features: 8/8 -- score: 0.9791666666666666"
          ],
          "name": "stderr"
        }
      ]
    },
    {
      "cell_type": "code",
      "metadata": {
        "id": "lzcPH-C8UAbv"
      },
      "source": [
        "sbs=sfs"
      ],
      "execution_count": null,
      "outputs": []
    },
    {
      "cell_type": "code",
      "metadata": {
        "colab": {
          "base_uri": "https://localhost:8080/"
        },
        "id": "TLp6INxKWDrh",
        "outputId": "c8dd5af1-587e-4018-e2d3-7a140fad01ca"
      },
      "source": [
        "sbs.k_score_"
      ],
      "execution_count": null,
      "outputs": [
        {
          "output_type": "execute_result",
          "data": {
            "text/plain": [
              "0.9859126984126985"
            ]
          },
          "metadata": {
            "tags": []
          },
          "execution_count": 20
        }
      ]
    },
    {
      "cell_type": "code",
      "metadata": {
        "colab": {
          "base_uri": "https://localhost:8080/"
        },
        "id": "yDJqYrFPWGEz",
        "outputId": "46bb1bf5-b249-42c7-b125-946947526b80"
      },
      "source": [
        "sbs.k_feature_names_"
      ],
      "execution_count": null,
      "outputs": [
        {
          "output_type": "execute_result",
          "data": {
            "text/plain": [
              "('magnesium', 'flavanoids', 'color_intensity')"
            ]
          },
          "metadata": {
            "tags": []
          },
          "execution_count": 21
        }
      ]
    },
    {
      "cell_type": "markdown",
      "metadata": {
        "id": "azz_rGxWWMw6"
      },
      "source": [
        "# **Exhaustive Feature Selection(EFS)**"
      ]
    },
    {
      "cell_type": "code",
      "metadata": {
        "id": "4AR_jJZ_WKR8"
      },
      "source": [
        "from mlxtend.feature_selection import ExhaustiveFeatureSelector as EFS"
      ],
      "execution_count": null,
      "outputs": []
    },
    {
      "cell_type": "code",
      "metadata": {
        "colab": {
          "base_uri": "https://localhost:8080/"
        },
        "id": "OWJyYRkzWb7f",
        "outputId": "e1d03da5-0861-4332-c8cc-0a7290a5293b"
      },
      "source": [
        "efs=EFS(RandomForestClassifier(n_estimators=100,random_state=0,n_jobs=-1),\r\n",
        "        min_features=4,\r\n",
        "        max_features=5,\r\n",
        "        scoring='accuracy',\r\n",
        "        cv=None,\r\n",
        "        n_jobs=-1\r\n",
        "        ).fit(x_train,y_train)"
      ],
      "execution_count": null,
      "outputs": [
        {
          "output_type": "stream",
          "text": [
            "Features: 2002/2002"
          ],
          "name": "stderr"
        }
      ]
    },
    {
      "cell_type": "code",
      "metadata": {
        "colab": {
          "base_uri": "https://localhost:8080/"
        },
        "id": "yu0JZEA2XdvX",
        "outputId": "04341b5b-e8f7-46d3-c743-b21e95aa86ff"
      },
      "source": [
        "help(efs)"
      ],
      "execution_count": null,
      "outputs": [
        {
          "output_type": "stream",
          "text": [
            "Help on ExhaustiveFeatureSelector in module mlxtend.feature_selection.exhaustive_feature_selector object:\n",
            "\n",
            "class ExhaustiveFeatureSelector(sklearn.base.BaseEstimator, sklearn.base.MetaEstimatorMixin)\n",
            " |  Exhaustive Feature Selection for Classification and Regression.\n",
            " |     (new in v0.4.3)\n",
            " |  \n",
            " |  Parameters\n",
            " |  ----------\n",
            " |  estimator : scikit-learn classifier or regressor\n",
            " |  min_features : int (default: 1)\n",
            " |      Minumum number of features to select\n",
            " |  max_features : int (default: 1)\n",
            " |      Maximum number of features to select\n",
            " |  print_progress : bool (default: True)\n",
            " |      Prints progress as the number of epochs\n",
            " |      to stderr.\n",
            " |  scoring : str, (default='accuracy')\n",
            " |      Scoring metric in {accuracy, f1, precision, recall, roc_auc}\n",
            " |      for classifiers,\n",
            " |      {'mean_absolute_error', 'mean_squared_error',\n",
            " |      'median_absolute_error', 'r2'} for regressors,\n",
            " |      or a callable object or function with\n",
            " |      signature ``scorer(estimator, X, y)``.\n",
            " |  cv : int (default: 5)\n",
            " |      Scikit-learn cross-validation generator or `int`.\n",
            " |      If estimator is a classifier (or y consists of integer class labels),\n",
            " |      stratified k-fold is performed, and regular k-fold cross-validation\n",
            " |      otherwise.\n",
            " |      No cross-validation if cv is None, False, or 0.\n",
            " |  n_jobs : int (default: 1)\n",
            " |      The number of CPUs to use for evaluating different feature subsets\n",
            " |      in parallel. -1 means 'all CPUs'.\n",
            " |  pre_dispatch : int, or string (default: '2*n_jobs')\n",
            " |      Controls the number of jobs that get dispatched\n",
            " |      during parallel execution if `n_jobs > 1` or `n_jobs=-1`.\n",
            " |      Reducing this number can be useful to avoid an explosion of\n",
            " |      memory consumption when more jobs get dispatched than CPUs can process.\n",
            " |      This parameter can be:\n",
            " |      None, in which case all the jobs are immediately created and spawned.\n",
            " |          Use this for lightweight and fast-running jobs,\n",
            " |          to avoid delays due to on-demand spawning of the jobs\n",
            " |      An int, giving the exact number of total jobs that are spawned\n",
            " |      A string, giving an expression as a function\n",
            " |          of n_jobs, as in `2*n_jobs`\n",
            " |  clone_estimator : bool (default: True)\n",
            " |      Clones estimator if True; works with the original estimator instance\n",
            " |      if False. Set to False if the estimator doesn't\n",
            " |      implement scikit-learn's set_params and get_params methods.\n",
            " |      In addition, it is required to set cv=0, and n_jobs=1.\n",
            " |  \n",
            " |  Attributes\n",
            " |  ----------\n",
            " |  best_idx_ : array-like, shape = [n_predictions]\n",
            " |      Feature Indices of the selected feature subsets.\n",
            " |  best_feature_names_ : array-like, shape = [n_predictions]\n",
            " |      Feature names of the selected feature subsets. If pandas\n",
            " |      DataFrames are used in the `fit` method, the feature\n",
            " |      names correspond to the column names. Otherwise, the\n",
            " |      feature names are string representation of the feature\n",
            " |      array indices. New in v 0.13.0.\n",
            " |  best_score_ : float\n",
            " |      Cross validation average score of the selected subset.\n",
            " |  subsets_ : dict\n",
            " |      A dictionary of selected feature subsets during the\n",
            " |      exhaustive selection, where the dictionary keys are\n",
            " |      the lengths k of these feature subsets. The dictionary\n",
            " |      values are dictionaries themselves with the following\n",
            " |      keys: 'feature_idx' (tuple of indices of the feature subset)\n",
            " |            'feature_names' (tuple of feature names of the feat. subset)\n",
            " |            'cv_scores' (list individual cross-validation scores)\n",
            " |            'avg_score' (average cross-validation score)\n",
            " |      Note that if pandas\n",
            " |      DataFrames are used in the `fit` method, the 'feature_names'\n",
            " |      correspond to the column names. Otherwise, the\n",
            " |      feature names are string representation of the feature\n",
            " |      array indices. The 'feature_names' is new in v 0.13.0.\n",
            " |  \n",
            " |  Examples\n",
            " |  -----------\n",
            " |  For usage examples, please see\n",
            " |  http://rasbt.github.io/mlxtend/user_guide/feature_selection/ExhaustiveFeatureSelector/\n",
            " |  \n",
            " |  Method resolution order:\n",
            " |      ExhaustiveFeatureSelector\n",
            " |      sklearn.base.BaseEstimator\n",
            " |      sklearn.base.MetaEstimatorMixin\n",
            " |      builtins.object\n",
            " |  \n",
            " |  Methods defined here:\n",
            " |  \n",
            " |  __init__(self, estimator, min_features=1, max_features=1, print_progress=True, scoring='accuracy', cv=5, n_jobs=1, pre_dispatch='2*n_jobs', clone_estimator=True)\n",
            " |      Initialize self.  See help(type(self)) for accurate signature.\n",
            " |  \n",
            " |  fit(self, X, y, custom_feature_names=None, **fit_params)\n",
            " |      Perform feature selection and learn model from training data.\n",
            " |      \n",
            " |      Parameters\n",
            " |      ----------\n",
            " |      X : {array-like, sparse matrix}, shape = [n_samples, n_features]\n",
            " |          Training vectors, where n_samples is the number of samples and\n",
            " |          n_features is the number of features.\n",
            " |          New in v 0.13.0: pandas DataFrames are now also accepted as\n",
            " |          argument for X.\n",
            " |      y : array-like, shape = [n_samples]\n",
            " |          Target values.\n",
            " |      custom_feature_names : None or tuple (default: tuple)\n",
            " |          Custom feature names for `self.k_feature_names` and\n",
            " |          `self.subsets_[i]['feature_names']`.\n",
            " |          (new in v 0.13.0)\n",
            " |      fit_params : dict of string -> object, optional\n",
            " |          Parameters to pass to to the fit method of classifier.\n",
            " |      \n",
            " |      Returns\n",
            " |      -------\n",
            " |      self : object\n",
            " |  \n",
            " |  fit_transform(self, X, y, **fit_params)\n",
            " |      Fit to training data and return the best selected features from X.\n",
            " |      \n",
            " |      Parameters\n",
            " |      ----------\n",
            " |      X : {array-like, sparse matrix}, shape = [n_samples, n_features]\n",
            " |          Training vectors, where n_samples is the number of samples and\n",
            " |          n_features is the number of features.\n",
            " |          New in v 0.13.0: pandas DataFrames are now also accepted as\n",
            " |          argument for X.\n",
            " |      y : array-like, shape = [n_samples]\n",
            " |          Target values.\n",
            " |      fit_params : dict of string -> object, optional\n",
            " |          Parameters to pass to to the fit method of classifier.\n",
            " |      \n",
            " |      Returns\n",
            " |      -------\n",
            " |      Feature subset of X, shape={n_samples, k_features}\n",
            " |  \n",
            " |  get_metric_dict(self, confidence_interval=0.95)\n",
            " |      Return metric dictionary\n",
            " |      \n",
            " |      Parameters\n",
            " |      ----------\n",
            " |      confidence_interval : float (default: 0.95)\n",
            " |          A positive float between 0.0 and 1.0 to compute the confidence\n",
            " |          interval bounds of the CV score averages.\n",
            " |      \n",
            " |      Returns\n",
            " |      ----------\n",
            " |      Dictionary with items where each dictionary value is a list\n",
            " |      with the number of iterations (number of feature subsets) as\n",
            " |      its length. The dictionary keys corresponding to these lists\n",
            " |      are as follows:\n",
            " |          'feature_idx': tuple of the indices of the feature subset\n",
            " |          'cv_scores': list with individual CV scores\n",
            " |          'avg_score': of CV average scores\n",
            " |          'std_dev': standard deviation of the CV score average\n",
            " |          'std_err': standard error of the CV score average\n",
            " |          'ci_bound': confidence interval bound of the CV score average\n",
            " |  \n",
            " |  transform(self, X)\n",
            " |      Return the best selected features from X.\n",
            " |      \n",
            " |      Parameters\n",
            " |      ----------\n",
            " |      X : {array-like, sparse matrix}, shape = [n_samples, n_features]\n",
            " |          Training vectors, where n_samples is the number of samples and\n",
            " |          n_features is the number of features.\n",
            " |          New in v 0.13.0: pandas DataFrames are now also accepted as\n",
            " |          argument for X.\n",
            " |      \n",
            " |      Returns\n",
            " |      -------\n",
            " |      Feature subset of X, shape={n_samples, k_features}\n",
            " |  \n",
            " |  ----------------------------------------------------------------------\n",
            " |  Methods inherited from sklearn.base.BaseEstimator:\n",
            " |  \n",
            " |  __getstate__(self)\n",
            " |  \n",
            " |  __repr__(self, N_CHAR_MAX=700)\n",
            " |      Return repr(self).\n",
            " |  \n",
            " |  __setstate__(self, state)\n",
            " |  \n",
            " |  get_params(self, deep=True)\n",
            " |      Get parameters for this estimator.\n",
            " |      \n",
            " |      Parameters\n",
            " |      ----------\n",
            " |      deep : bool, default=True\n",
            " |          If True, will return the parameters for this estimator and\n",
            " |          contained subobjects that are estimators.\n",
            " |      \n",
            " |      Returns\n",
            " |      -------\n",
            " |      params : mapping of string to any\n",
            " |          Parameter names mapped to their values.\n",
            " |  \n",
            " |  set_params(self, **params)\n",
            " |      Set the parameters of this estimator.\n",
            " |      \n",
            " |      The method works on simple estimators as well as on nested objects\n",
            " |      (such as pipelines). The latter have parameters of the form\n",
            " |      ``<component>__<parameter>`` so that it's possible to update each\n",
            " |      component of a nested object.\n",
            " |      \n",
            " |      Parameters\n",
            " |      ----------\n",
            " |      **params : dict\n",
            " |          Estimator parameters.\n",
            " |      \n",
            " |      Returns\n",
            " |      -------\n",
            " |      self : object\n",
            " |          Estimator instance.\n",
            " |  \n",
            " |  ----------------------------------------------------------------------\n",
            " |  Data descriptors inherited from sklearn.base.BaseEstimator:\n",
            " |  \n",
            " |  __dict__\n",
            " |      dictionary for instance variables (if defined)\n",
            " |  \n",
            " |  __weakref__\n",
            " |      list of weak references to the object (if defined)\n",
            "\n"
          ],
          "name": "stdout"
        }
      ]
    },
    {
      "cell_type": "code",
      "metadata": {
        "colab": {
          "base_uri": "https://localhost:8080/"
        },
        "id": "aRGSZyf3XkwY",
        "outputId": "a182935e-cc48-4395-8b81-f7b083ff9ec6"
      },
      "source": [
        "efs.best_score_"
      ],
      "execution_count": null,
      "outputs": [
        {
          "output_type": "execute_result",
          "data": {
            "text/plain": [
              "1.0"
            ]
          },
          "metadata": {
            "tags": []
          },
          "execution_count": 25
        }
      ]
    },
    {
      "cell_type": "code",
      "metadata": {
        "colab": {
          "base_uri": "https://localhost:8080/"
        },
        "id": "QJgBi1CHXovf",
        "outputId": "16e3d59f-3634-452d-fad2-d396400f41a0"
      },
      "source": [
        "efs.best_feature_names_"
      ],
      "execution_count": null,
      "outputs": [
        {
          "output_type": "execute_result",
          "data": {
            "text/plain": [
              "('alcohol', 'malic_acid', 'ash', 'alcalinity_of_ash')"
            ]
          },
          "metadata": {
            "tags": []
          },
          "execution_count": 26
        }
      ]
    },
    {
      "cell_type": "code",
      "metadata": {
        "colab": {
          "base_uri": "https://localhost:8080/"
        },
        "id": "KE3p7kjeXuh3",
        "outputId": "4ef9534c-942f-44ac-d9ce-f50be8585f89"
      },
      "source": [
        "efs.best_idx_"
      ],
      "execution_count": null,
      "outputs": [
        {
          "output_type": "execute_result",
          "data": {
            "text/plain": [
              "(0, 1, 2, 3)"
            ]
          },
          "metadata": {
            "tags": []
          },
          "execution_count": 27
        }
      ]
    },
    {
      "cell_type": "code",
      "metadata": {
        "id": "uf2oweQCXxju"
      },
      "source": [
        "from mlxtend.plotting import plot_sequential_feature_selection as plot_sfs"
      ],
      "execution_count": null,
      "outputs": []
    },
    {
      "cell_type": "code",
      "metadata": {
        "colab": {
          "base_uri": "https://localhost:8080/",
          "height": 608
        },
        "id": "iDr_vuZJX8RQ",
        "outputId": "c2d648e2-18f3-4502-8bf3-4a9288e024f7"
      },
      "source": [
        "plot_sfs(efs.get_metric_dict(),kind='std_dev')"
      ],
      "execution_count": null,
      "outputs": [
        {
          "output_type": "stream",
          "text": [
            "/usr/local/lib/python3.6/dist-packages/numpy/core/_methods.py:234: RuntimeWarning: Degrees of freedom <= 0 for slice\n",
            "  keepdims=keepdims)\n",
            "/usr/local/lib/python3.6/dist-packages/numpy/core/_methods.py:226: RuntimeWarning: invalid value encountered in double_scalars\n",
            "  ret = ret.dtype.type(ret / rcount)\n"
          ],
          "name": "stderr"
        },
        {
          "output_type": "execute_result",
          "data": {
            "image/png": "[encoded data removed]",
            "text/plain": [
              "<Figure size 432x288 with 1 Axes>"
            ]
          },
          "metadata": {
            "tags": []
          },
          "execution_count": 29
        },
        {
          "output_type": "display_data",
          "data": {
            "image/png": "[encoded data removed]",
            "text/plain": [
              "<Figure size 432x288 with 1 Axes>"
            ]
          },
          "metadata": {
            "tags": [],
            "needs_background": "light"
          }
        }
      ]
    },
    {
      "cell_type": "code",
      "metadata": {
        "id": "Uqc2KfZ-YFyH"
      },
      "source": [
        ""
      ],
      "execution_count": null,
      "outputs": []
    }
  ]
}