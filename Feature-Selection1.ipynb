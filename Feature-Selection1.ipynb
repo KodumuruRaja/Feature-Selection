{
  "nbformat": 4,
  "nbformat_minor": 0,
  "metadata": {
    "colab": {
      "name": "Feature Selection(KGP Talkies) Based on Univariate ANOVA Test for Classification and Regression.ipynb",
      "provenance": [],
      "collapsed_sections": [],
      "authorship_tag": "ABX9TyPS0uP5rMgXZd51WdskQyuE",
      "include_colab_link": true
    },
    "kernelspec": {
      "name": "python3",
      "display_name": "Python 3"
    }
  },
  "cells": [
    {
      "cell_type": "markdown",
      "metadata": {
        "id": "view-in-github",
        "colab_type": "text"
      },
      "source": [
        "<a href=\"https://colab.research.google.com/github/KodumuruRaja/Feature-Selection/blob/main/Feature-Selection1.ipynb\" target=\"_parent\"><img src=\"https://colab.research.google.com/assets/colab-badge.svg\" alt=\"Open In Colab\"/></a>"
      ]
    },
    {
      "cell_type": "code",
      "metadata": {
        "id": "IXcKbsffQh2S"
      },
      "source": [
        "import numpy as np\r\n",
        "import pandas as pd\r\n",
        "import matplotlib.pyplot as plt\r\n",
        "import seaborn as sns"
      ],
      "execution_count": null,
      "outputs": []
    },
    {
      "cell_type": "code",
      "metadata": {
        "id": "ca5xr2krQs7T"
      },
      "source": [
        "from sklearn.model_selection import train_test_split\r\n",
        "from sklearn.ensemble import RandomForestClassifier\r\n",
        "from sklearn.metrics import accuracy_score\r\n",
        "from sklearn.feature_selection import VarianceThreshold\r\n",
        "from sklearn.feature_selection import f_classif,f_regression\r\n",
        "from sklearn.feature_selection import SelectKBest,SelectPercentile"
      ],
      "execution_count": null,
      "outputs": []
    },
    {
      "cell_type": "code",
      "metadata": {
        "id": "QmDwVoeGRSsT"
      },
      "source": [
        "data=pd.read_csv(\"/content/train.csv\")"
      ],
      "execution_count": null,
      "outputs": []
    },
    {
      "cell_type": "code",
      "metadata": {
        "colab": {
          "base_uri": "https://localhost:8080/",
          "height": 244
        },
        "id": "eZA7JbfJRgH7",
        "outputId": "e6cd1b21-3362-4f6e-a199-be677f9cd4cd"
      },
      "source": [
        "data.head()"
      ],
      "execution_count": null,
      "outputs": [
        {
          "output_type": "execute_result",
          "data": {
            "text/html": [
              "<div>\n",
              "<style scoped>\n",
              "    .dataframe tbody tr th:only-of-type {\n",
              "        vertical-align: middle;\n",
              "    }\n",
              "\n",
              "    .dataframe tbody tr th {\n",
              "        vertical-align: top;\n",
              "    }\n",
              "\n",
              "    .dataframe thead th {\n",
              "        text-align: right;\n",
              "    }\n",
              "</style>\n",
              "<table border=\"1\" class=\"dataframe\">\n",
              "  <thead>\n",
              "    <tr style=\"text-align: right;\">\n",
              "      <th></th>\n",
              "      <th>ID</th>\n",
              "      <th>var3</th>\n",
              "      <th>var15</th>\n",
              "      <th>imp_ent_var16_ult1</th>\n",
              "      <th>imp_op_var39_comer_ult1</th>\n",
              "      <th>imp_op_var39_comer_ult3</th>\n",
              "      <th>imp_op_var40_comer_ult1</th>\n",
              "      <th>imp_op_var40_comer_ult3</th>\n",
              "      <th>imp_op_var40_efect_ult1</th>\n",
              "      <th>imp_op_var40_efect_ult3</th>\n",
              "      <th>imp_op_var40_ult1</th>\n",
              "      <th>imp_op_var41_comer_ult1</th>\n",
              "      <th>imp_op_var41_comer_ult3</th>\n",
              "      <th>imp_op_var41_efect_ult1</th>\n",
              "      <th>imp_op_var41_efect_ult3</th>\n",
              "      <th>imp_op_var41_ult1</th>\n",
              "      <th>imp_op_var39_efect_ult1</th>\n",
              "      <th>imp_op_var39_efect_ult3</th>\n",
              "      <th>imp_op_var39_ult1</th>\n",
              "      <th>imp_sal_var16_ult1</th>\n",
              "      <th>ind_var1_0</th>\n",
              "      <th>ind_var1</th>\n",
              "      <th>ind_var2_0</th>\n",
              "      <th>ind_var2</th>\n",
              "      <th>ind_var5_0</th>\n",
              "      <th>ind_var5</th>\n",
              "      <th>ind_var6_0</th>\n",
              "      <th>ind_var6</th>\n",
              "      <th>ind_var8_0</th>\n",
              "      <th>ind_var8</th>\n",
              "      <th>ind_var12_0</th>\n",
              "      <th>ind_var12</th>\n",
              "      <th>ind_var13_0</th>\n",
              "      <th>ind_var13_corto_0</th>\n",
              "      <th>ind_var13_corto</th>\n",
              "      <th>ind_var13_largo_0</th>\n",
              "      <th>ind_var13_largo</th>\n",
              "      <th>ind_var13_medio_0</th>\n",
              "      <th>ind_var13_medio</th>\n",
              "      <th>ind_var13</th>\n",
              "      <th>...</th>\n",
              "      <th>saldo_medio_var5_ult1</th>\n",
              "      <th>saldo_medio_var5_ult3</th>\n",
              "      <th>saldo_medio_var8_hace2</th>\n",
              "      <th>saldo_medio_var8_hace3</th>\n",
              "      <th>saldo_medio_var8_ult1</th>\n",
              "      <th>saldo_medio_var8_ult3</th>\n",
              "      <th>saldo_medio_var12_hace2</th>\n",
              "      <th>saldo_medio_var12_hace3</th>\n",
              "      <th>saldo_medio_var12_ult1</th>\n",
              "      <th>saldo_medio_var12_ult3</th>\n",
              "      <th>saldo_medio_var13_corto_hace2</th>\n",
              "      <th>saldo_medio_var13_corto_hace3</th>\n",
              "      <th>saldo_medio_var13_corto_ult1</th>\n",
              "      <th>saldo_medio_var13_corto_ult3</th>\n",
              "      <th>saldo_medio_var13_largo_hace2</th>\n",
              "      <th>saldo_medio_var13_largo_hace3</th>\n",
              "      <th>saldo_medio_var13_largo_ult1</th>\n",
              "      <th>saldo_medio_var13_largo_ult3</th>\n",
              "      <th>saldo_medio_var13_medio_hace2</th>\n",
              "      <th>saldo_medio_var13_medio_hace3</th>\n",
              "      <th>saldo_medio_var13_medio_ult1</th>\n",
              "      <th>saldo_medio_var13_medio_ult3</th>\n",
              "      <th>saldo_medio_var17_hace2</th>\n",
              "      <th>saldo_medio_var17_hace3</th>\n",
              "      <th>saldo_medio_var17_ult1</th>\n",
              "      <th>saldo_medio_var17_ult3</th>\n",
              "      <th>saldo_medio_var29_hace2</th>\n",
              "      <th>saldo_medio_var29_hace3</th>\n",
              "      <th>saldo_medio_var29_ult1</th>\n",
              "      <th>saldo_medio_var29_ult3</th>\n",
              "      <th>saldo_medio_var33_hace2</th>\n",
              "      <th>saldo_medio_var33_hace3</th>\n",
              "      <th>saldo_medio_var33_ult1</th>\n",
              "      <th>saldo_medio_var33_ult3</th>\n",
              "      <th>saldo_medio_var44_hace2</th>\n",
              "      <th>saldo_medio_var44_hace3</th>\n",
              "      <th>saldo_medio_var44_ult1</th>\n",
              "      <th>saldo_medio_var44_ult3</th>\n",
              "      <th>var38</th>\n",
              "      <th>TARGET</th>\n",
              "    </tr>\n",
              "  </thead>\n",
              "  <tbody>\n",
              "    <tr>\n",
              "      <th>0</th>\n",
              "      <td>1</td>\n",
              "      <td>2</td>\n",
              "      <td>23</td>\n",
              "      <td>0.0</td>\n",
              "      <td>0.0</td>\n",
              "      <td>0.0</td>\n",
              "      <td>0.0</td>\n",
              "      <td>0.0</td>\n",
              "      <td>0.0</td>\n",
              "      <td>0.0</td>\n",
              "      <td>0.0</td>\n",
              "      <td>0.0</td>\n",
              "      <td>0.0</td>\n",
              "      <td>0.0</td>\n",
              "      <td>0.0</td>\n",
              "      <td>0.0</td>\n",
              "      <td>0.0</td>\n",
              "      <td>0.0</td>\n",
              "      <td>0.0</td>\n",
              "      <td>0.0</td>\n",
              "      <td>0</td>\n",
              "      <td>0</td>\n",
              "      <td>0</td>\n",
              "      <td>0</td>\n",
              "      <td>1</td>\n",
              "      <td>0</td>\n",
              "      <td>0</td>\n",
              "      <td>0</td>\n",
              "      <td>0</td>\n",
              "      <td>0</td>\n",
              "      <td>0</td>\n",
              "      <td>0</td>\n",
              "      <td>0</td>\n",
              "      <td>0</td>\n",
              "      <td>0</td>\n",
              "      <td>0</td>\n",
              "      <td>0</td>\n",
              "      <td>0</td>\n",
              "      <td>0</td>\n",
              "      <td>0</td>\n",
              "      <td>...</td>\n",
              "      <td>0.00</td>\n",
              "      <td>0.00</td>\n",
              "      <td>0.0</td>\n",
              "      <td>0.0</td>\n",
              "      <td>0.0</td>\n",
              "      <td>0.0</td>\n",
              "      <td>0.0</td>\n",
              "      <td>0.0</td>\n",
              "      <td>0.00</td>\n",
              "      <td>0.00</td>\n",
              "      <td>0.0</td>\n",
              "      <td>0.00</td>\n",
              "      <td>0.0</td>\n",
              "      <td>0.00</td>\n",
              "      <td>0.0</td>\n",
              "      <td>0.0</td>\n",
              "      <td>0.0</td>\n",
              "      <td>0.0</td>\n",
              "      <td>0.0</td>\n",
              "      <td>0.0</td>\n",
              "      <td>0.0</td>\n",
              "      <td>0.0</td>\n",
              "      <td>0.0</td>\n",
              "      <td>0.0</td>\n",
              "      <td>0.0</td>\n",
              "      <td>0.0</td>\n",
              "      <td>0.0</td>\n",
              "      <td>0.0</td>\n",
              "      <td>0.0</td>\n",
              "      <td>0.0</td>\n",
              "      <td>0.0</td>\n",
              "      <td>0.0</td>\n",
              "      <td>0.0</td>\n",
              "      <td>0.0</td>\n",
              "      <td>0.0</td>\n",
              "      <td>0.0</td>\n",
              "      <td>0.0</td>\n",
              "      <td>0.0</td>\n",
              "      <td>39205.170000</td>\n",
              "      <td>0.0</td>\n",
              "    </tr>\n",
              "    <tr>\n",
              "      <th>1</th>\n",
              "      <td>3</td>\n",
              "      <td>2</td>\n",
              "      <td>34</td>\n",
              "      <td>0.0</td>\n",
              "      <td>0.0</td>\n",
              "      <td>0.0</td>\n",
              "      <td>0.0</td>\n",
              "      <td>0.0</td>\n",
              "      <td>0.0</td>\n",
              "      <td>0.0</td>\n",
              "      <td>0.0</td>\n",
              "      <td>0.0</td>\n",
              "      <td>0.0</td>\n",
              "      <td>0.0</td>\n",
              "      <td>0.0</td>\n",
              "      <td>0.0</td>\n",
              "      <td>0.0</td>\n",
              "      <td>0.0</td>\n",
              "      <td>0.0</td>\n",
              "      <td>0.0</td>\n",
              "      <td>0</td>\n",
              "      <td>0</td>\n",
              "      <td>0</td>\n",
              "      <td>0</td>\n",
              "      <td>1</td>\n",
              "      <td>0</td>\n",
              "      <td>0</td>\n",
              "      <td>0</td>\n",
              "      <td>0</td>\n",
              "      <td>0</td>\n",
              "      <td>0</td>\n",
              "      <td>0</td>\n",
              "      <td>1</td>\n",
              "      <td>1</td>\n",
              "      <td>1</td>\n",
              "      <td>0</td>\n",
              "      <td>0</td>\n",
              "      <td>0</td>\n",
              "      <td>0</td>\n",
              "      <td>1</td>\n",
              "      <td>...</td>\n",
              "      <td>0.00</td>\n",
              "      <td>0.00</td>\n",
              "      <td>0.0</td>\n",
              "      <td>0.0</td>\n",
              "      <td>0.0</td>\n",
              "      <td>0.0</td>\n",
              "      <td>0.0</td>\n",
              "      <td>0.0</td>\n",
              "      <td>0.00</td>\n",
              "      <td>0.00</td>\n",
              "      <td>300.0</td>\n",
              "      <td>122.22</td>\n",
              "      <td>300.0</td>\n",
              "      <td>240.75</td>\n",
              "      <td>0.0</td>\n",
              "      <td>0.0</td>\n",
              "      <td>0.0</td>\n",
              "      <td>0.0</td>\n",
              "      <td>0.0</td>\n",
              "      <td>0.0</td>\n",
              "      <td>0.0</td>\n",
              "      <td>0.0</td>\n",
              "      <td>0.0</td>\n",
              "      <td>0.0</td>\n",
              "      <td>0.0</td>\n",
              "      <td>0.0</td>\n",
              "      <td>0.0</td>\n",
              "      <td>0.0</td>\n",
              "      <td>0.0</td>\n",
              "      <td>0.0</td>\n",
              "      <td>0.0</td>\n",
              "      <td>0.0</td>\n",
              "      <td>0.0</td>\n",
              "      <td>0.0</td>\n",
              "      <td>0.0</td>\n",
              "      <td>0.0</td>\n",
              "      <td>0.0</td>\n",
              "      <td>0.0</td>\n",
              "      <td>49278.030000</td>\n",
              "      <td>0.0</td>\n",
              "    </tr>\n",
              "    <tr>\n",
              "      <th>2</th>\n",
              "      <td>4</td>\n",
              "      <td>2</td>\n",
              "      <td>23</td>\n",
              "      <td>0.0</td>\n",
              "      <td>0.0</td>\n",
              "      <td>0.0</td>\n",
              "      <td>0.0</td>\n",
              "      <td>0.0</td>\n",
              "      <td>0.0</td>\n",
              "      <td>0.0</td>\n",
              "      <td>0.0</td>\n",
              "      <td>0.0</td>\n",
              "      <td>0.0</td>\n",
              "      <td>0.0</td>\n",
              "      <td>0.0</td>\n",
              "      <td>0.0</td>\n",
              "      <td>0.0</td>\n",
              "      <td>0.0</td>\n",
              "      <td>0.0</td>\n",
              "      <td>0.0</td>\n",
              "      <td>0</td>\n",
              "      <td>0</td>\n",
              "      <td>0</td>\n",
              "      <td>0</td>\n",
              "      <td>1</td>\n",
              "      <td>1</td>\n",
              "      <td>0</td>\n",
              "      <td>0</td>\n",
              "      <td>0</td>\n",
              "      <td>0</td>\n",
              "      <td>0</td>\n",
              "      <td>0</td>\n",
              "      <td>0</td>\n",
              "      <td>0</td>\n",
              "      <td>0</td>\n",
              "      <td>0</td>\n",
              "      <td>0</td>\n",
              "      <td>0</td>\n",
              "      <td>0</td>\n",
              "      <td>0</td>\n",
              "      <td>...</td>\n",
              "      <td>3.00</td>\n",
              "      <td>2.07</td>\n",
              "      <td>0.0</td>\n",
              "      <td>0.0</td>\n",
              "      <td>0.0</td>\n",
              "      <td>0.0</td>\n",
              "      <td>0.0</td>\n",
              "      <td>0.0</td>\n",
              "      <td>0.00</td>\n",
              "      <td>0.00</td>\n",
              "      <td>0.0</td>\n",
              "      <td>0.00</td>\n",
              "      <td>0.0</td>\n",
              "      <td>0.00</td>\n",
              "      <td>0.0</td>\n",
              "      <td>0.0</td>\n",
              "      <td>0.0</td>\n",
              "      <td>0.0</td>\n",
              "      <td>0.0</td>\n",
              "      <td>0.0</td>\n",
              "      <td>0.0</td>\n",
              "      <td>0.0</td>\n",
              "      <td>0.0</td>\n",
              "      <td>0.0</td>\n",
              "      <td>0.0</td>\n",
              "      <td>0.0</td>\n",
              "      <td>0.0</td>\n",
              "      <td>0.0</td>\n",
              "      <td>0.0</td>\n",
              "      <td>0.0</td>\n",
              "      <td>0.0</td>\n",
              "      <td>0.0</td>\n",
              "      <td>0.0</td>\n",
              "      <td>0.0</td>\n",
              "      <td>0.0</td>\n",
              "      <td>0.0</td>\n",
              "      <td>0.0</td>\n",
              "      <td>0.0</td>\n",
              "      <td>67333.770000</td>\n",
              "      <td>0.0</td>\n",
              "    </tr>\n",
              "    <tr>\n",
              "      <th>3</th>\n",
              "      <td>8</td>\n",
              "      <td>2</td>\n",
              "      <td>37</td>\n",
              "      <td>0.0</td>\n",
              "      <td>195.0</td>\n",
              "      <td>195.0</td>\n",
              "      <td>0.0</td>\n",
              "      <td>0.0</td>\n",
              "      <td>0.0</td>\n",
              "      <td>0.0</td>\n",
              "      <td>0.0</td>\n",
              "      <td>195.0</td>\n",
              "      <td>195.0</td>\n",
              "      <td>0.0</td>\n",
              "      <td>0.0</td>\n",
              "      <td>195.0</td>\n",
              "      <td>0.0</td>\n",
              "      <td>0.0</td>\n",
              "      <td>195.0</td>\n",
              "      <td>0.0</td>\n",
              "      <td>0</td>\n",
              "      <td>0</td>\n",
              "      <td>0</td>\n",
              "      <td>0</td>\n",
              "      <td>1</td>\n",
              "      <td>1</td>\n",
              "      <td>0</td>\n",
              "      <td>0</td>\n",
              "      <td>0</td>\n",
              "      <td>0</td>\n",
              "      <td>0</td>\n",
              "      <td>0</td>\n",
              "      <td>0</td>\n",
              "      <td>0</td>\n",
              "      <td>0</td>\n",
              "      <td>0</td>\n",
              "      <td>0</td>\n",
              "      <td>0</td>\n",
              "      <td>0</td>\n",
              "      <td>0</td>\n",
              "      <td>...</td>\n",
              "      <td>91.56</td>\n",
              "      <td>138.84</td>\n",
              "      <td>0.0</td>\n",
              "      <td>0.0</td>\n",
              "      <td>0.0</td>\n",
              "      <td>0.0</td>\n",
              "      <td>0.0</td>\n",
              "      <td>0.0</td>\n",
              "      <td>0.00</td>\n",
              "      <td>0.00</td>\n",
              "      <td>0.0</td>\n",
              "      <td>0.00</td>\n",
              "      <td>0.0</td>\n",
              "      <td>0.00</td>\n",
              "      <td>0.0</td>\n",
              "      <td>0.0</td>\n",
              "      <td>0.0</td>\n",
              "      <td>0.0</td>\n",
              "      <td>0.0</td>\n",
              "      <td>0.0</td>\n",
              "      <td>0.0</td>\n",
              "      <td>0.0</td>\n",
              "      <td>0.0</td>\n",
              "      <td>0.0</td>\n",
              "      <td>0.0</td>\n",
              "      <td>0.0</td>\n",
              "      <td>0.0</td>\n",
              "      <td>0.0</td>\n",
              "      <td>0.0</td>\n",
              "      <td>0.0</td>\n",
              "      <td>0.0</td>\n",
              "      <td>0.0</td>\n",
              "      <td>0.0</td>\n",
              "      <td>0.0</td>\n",
              "      <td>0.0</td>\n",
              "      <td>0.0</td>\n",
              "      <td>0.0</td>\n",
              "      <td>0.0</td>\n",
              "      <td>64007.970000</td>\n",
              "      <td>0.0</td>\n",
              "    </tr>\n",
              "    <tr>\n",
              "      <th>4</th>\n",
              "      <td>10</td>\n",
              "      <td>2</td>\n",
              "      <td>39</td>\n",
              "      <td>0.0</td>\n",
              "      <td>0.0</td>\n",
              "      <td>0.0</td>\n",
              "      <td>0.0</td>\n",
              "      <td>0.0</td>\n",
              "      <td>0.0</td>\n",
              "      <td>0.0</td>\n",
              "      <td>0.0</td>\n",
              "      <td>0.0</td>\n",
              "      <td>0.0</td>\n",
              "      <td>0.0</td>\n",
              "      <td>0.0</td>\n",
              "      <td>0.0</td>\n",
              "      <td>0.0</td>\n",
              "      <td>0.0</td>\n",
              "      <td>0.0</td>\n",
              "      <td>0.0</td>\n",
              "      <td>0</td>\n",
              "      <td>0</td>\n",
              "      <td>0</td>\n",
              "      <td>0</td>\n",
              "      <td>1</td>\n",
              "      <td>0</td>\n",
              "      <td>0</td>\n",
              "      <td>0</td>\n",
              "      <td>0</td>\n",
              "      <td>0</td>\n",
              "      <td>1</td>\n",
              "      <td>1</td>\n",
              "      <td>0</td>\n",
              "      <td>0</td>\n",
              "      <td>0</td>\n",
              "      <td>0</td>\n",
              "      <td>0</td>\n",
              "      <td>0</td>\n",
              "      <td>0</td>\n",
              "      <td>0</td>\n",
              "      <td>...</td>\n",
              "      <td>40501.08</td>\n",
              "      <td>13501.47</td>\n",
              "      <td>0.0</td>\n",
              "      <td>0.0</td>\n",
              "      <td>0.0</td>\n",
              "      <td>0.0</td>\n",
              "      <td>0.0</td>\n",
              "      <td>0.0</td>\n",
              "      <td>85501.89</td>\n",
              "      <td>85501.89</td>\n",
              "      <td>0.0</td>\n",
              "      <td>0.00</td>\n",
              "      <td>0.0</td>\n",
              "      <td>0.00</td>\n",
              "      <td>0.0</td>\n",
              "      <td>0.0</td>\n",
              "      <td>0.0</td>\n",
              "      <td>0.0</td>\n",
              "      <td>0.0</td>\n",
              "      <td>0.0</td>\n",
              "      <td>0.0</td>\n",
              "      <td>0.0</td>\n",
              "      <td>0.0</td>\n",
              "      <td>0.0</td>\n",
              "      <td>0.0</td>\n",
              "      <td>0.0</td>\n",
              "      <td>0.0</td>\n",
              "      <td>0.0</td>\n",
              "      <td>0.0</td>\n",
              "      <td>0.0</td>\n",
              "      <td>0.0</td>\n",
              "      <td>0.0</td>\n",
              "      <td>0.0</td>\n",
              "      <td>0.0</td>\n",
              "      <td>0.0</td>\n",
              "      <td>0.0</td>\n",
              "      <td>0.0</td>\n",
              "      <td>0.0</td>\n",
              "      <td>117310.979016</td>\n",
              "      <td>0.0</td>\n",
              "    </tr>\n",
              "  </tbody>\n",
              "</table>\n",
              "<p>5 rows × 371 columns</p>\n",
              "</div>"
            ],
            "text/plain": [
              "   ID  var3  var15  ...  saldo_medio_var44_ult3          var38  TARGET\n",
              "0   1     2     23  ...                     0.0   39205.170000     0.0\n",
              "1   3     2     34  ...                     0.0   49278.030000     0.0\n",
              "2   4     2     23  ...                     0.0   67333.770000     0.0\n",
              "3   8     2     37  ...                     0.0   64007.970000     0.0\n",
              "4  10     2     39  ...                     0.0  117310.979016     0.0\n",
              "\n",
              "[5 rows x 371 columns]"
            ]
          },
          "metadata": {
            "tags": []
          },
          "execution_count": 4
        }
      ]
    },
    {
      "cell_type": "code",
      "metadata": {
        "id": "MQ4ssUxFRhxr"
      },
      "source": [
        "x=data.drop('TARGET',axis=1)\r\n",
        "y=data['TARGET']"
      ],
      "execution_count": null,
      "outputs": []
    },
    {
      "cell_type": "code",
      "metadata": {
        "colab": {
          "base_uri": "https://localhost:8080/"
        },
        "id": "NvhyVsD3UmMD",
        "outputId": "c9a979f4-2247-4504-fde5-0d6b931335ab"
      },
      "source": [
        "x.isnull().sum()"
      ],
      "execution_count": null,
      "outputs": [
        {
          "output_type": "execute_result",
          "data": {
            "text/plain": [
              "ID                         0\n",
              "var3                       0\n",
              "var15                      0\n",
              "imp_ent_var16_ult1         0\n",
              "imp_op_var39_comer_ult1    0\n",
              "                          ..\n",
              "saldo_medio_var44_hace2    1\n",
              "saldo_medio_var44_hace3    1\n",
              "saldo_medio_var44_ult1     1\n",
              "saldo_medio_var44_ult3     1\n",
              "var38                      1\n",
              "Length: 370, dtype: int64"
            ]
          },
          "metadata": {
            "tags": []
          },
          "execution_count": 6
        }
      ]
    },
    {
      "cell_type": "code",
      "metadata": {
        "colab": {
          "base_uri": "https://localhost:8080/"
        },
        "id": "SxlYhztpUmP0",
        "outputId": "2fb48150-aed8-474c-c7da-cd1e1f92ee43"
      },
      "source": [
        "y.isnull().sum()"
      ],
      "execution_count": null,
      "outputs": [
        {
          "output_type": "execute_result",
          "data": {
            "text/plain": [
              "1"
            ]
          },
          "metadata": {
            "tags": []
          },
          "execution_count": 7
        }
      ]
    },
    {
      "cell_type": "code",
      "metadata": {
        "colab": {
          "base_uri": "https://localhost:8080/"
        },
        "id": "fYQnAJyRSJ3Y",
        "outputId": "12ad47e2-8ddd-4297-de46-9e9318b84cf8"
      },
      "source": [
        "x.shape, y.shape"
      ],
      "execution_count": null,
      "outputs": [
        {
          "output_type": "execute_result",
          "data": {
            "text/plain": [
              "((34925, 370), (34925,))"
            ]
          },
          "metadata": {
            "tags": []
          },
          "execution_count": 8
        }
      ]
    },
    {
      "cell_type": "code",
      "metadata": {
        "id": "oMAn245CS2Lw"
      },
      "source": [
        "x.dropna(inplace=True)"
      ],
      "execution_count": null,
      "outputs": []
    },
    {
      "cell_type": "code",
      "metadata": {
        "id": "lXNM5nZIXFPm"
      },
      "source": [
        "y.dropna(inplace=True)"
      ],
      "execution_count": null,
      "outputs": []
    },
    {
      "cell_type": "code",
      "metadata": {
        "colab": {
          "base_uri": "https://localhost:8080/"
        },
        "id": "uNxnUd6sTp6A",
        "outputId": "b48d9571-ea8b-4802-a79b-67c850a17c2e"
      },
      "source": [
        "type(x)"
      ],
      "execution_count": null,
      "outputs": [
        {
          "output_type": "execute_result",
          "data": {
            "text/plain": [
              "pandas.core.frame.DataFrame"
            ]
          },
          "metadata": {
            "tags": []
          },
          "execution_count": 11
        }
      ]
    },
    {
      "cell_type": "code",
      "metadata": {
        "colab": {
          "base_uri": "https://localhost:8080/"
        },
        "id": "c-Rj48zlTmr_",
        "outputId": "31c5b283-14b8-40c8-87c4-2902763df354"
      },
      "source": [
        "type(y)"
      ],
      "execution_count": null,
      "outputs": [
        {
          "output_type": "execute_result",
          "data": {
            "text/plain": [
              "pandas.core.series.Series"
            ]
          },
          "metadata": {
            "tags": []
          },
          "execution_count": 12
        }
      ]
    },
    {
      "cell_type": "code",
      "metadata": {
        "colab": {
          "base_uri": "https://localhost:8080/"
        },
        "id": "qXeq2wUgS4ts",
        "outputId": "b70f2f66-4a1e-4f05-8a50-924fe2e22ec1"
      },
      "source": [
        "x.isnull().any()"
      ],
      "execution_count": null,
      "outputs": [
        {
          "output_type": "execute_result",
          "data": {
            "text/plain": [
              "ID                         False\n",
              "var3                       False\n",
              "var15                      False\n",
              "imp_ent_var16_ult1         False\n",
              "imp_op_var39_comer_ult1    False\n",
              "                           ...  \n",
              "saldo_medio_var44_hace2    False\n",
              "saldo_medio_var44_hace3    False\n",
              "saldo_medio_var44_ult1     False\n",
              "saldo_medio_var44_ult3     False\n",
              "var38                      False\n",
              "Length: 370, dtype: bool"
            ]
          },
          "metadata": {
            "tags": []
          },
          "execution_count": 13
        }
      ]
    },
    {
      "cell_type": "code",
      "metadata": {
        "colab": {
          "base_uri": "https://localhost:8080/"
        },
        "id": "ubG6YzpVXIUN",
        "outputId": "f9477387-a9e7-47d0-bb1c-74e6cd42801a"
      },
      "source": [
        "y.isnull().any()"
      ],
      "execution_count": null,
      "outputs": [
        {
          "output_type": "execute_result",
          "data": {
            "text/plain": [
              "False"
            ]
          },
          "metadata": {
            "tags": []
          },
          "execution_count": 14
        }
      ]
    },
    {
      "cell_type": "code",
      "metadata": {
        "id": "4pdPdTrtSMtP"
      },
      "source": [
        "x_train,x_test,y_train,y_test=train_test_split(x,y,test_size=0.2,random_state=0,stratify=y)"
      ],
      "execution_count": null,
      "outputs": []
    },
    {
      "cell_type": "markdown",
      "metadata": {
        "id": "A-nV4wquYEoa"
      },
      "source": [
        "# **Remove Constant, Quasi Constant, and Correlated Features**"
      ]
    },
    {
      "cell_type": "code",
      "metadata": {
        "id": "SEHDXRwOSwIL"
      },
      "source": [
        "cf=VarianceThreshold(threshold=0.01)\r\n",
        "cf.fit(x_train)\r\n",
        "x_train_f=cf.transform(x_train)\r\n",
        "x_test_f=cf.transform(x_test)"
      ],
      "execution_count": null,
      "outputs": []
    },
    {
      "cell_type": "code",
      "metadata": {
        "colab": {
          "base_uri": "https://localhost:8080/"
        },
        "id": "R4hrErm3Yf7-",
        "outputId": "13539151-44a0-48a4-fc33-bc9308397d3c"
      },
      "source": [
        "x_train_f.shape,x_test_f.shape"
      ],
      "execution_count": null,
      "outputs": [
        {
          "output_type": "execute_result",
          "data": {
            "text/plain": [
              "((27939, 251), (6985, 251))"
            ]
          },
          "metadata": {
            "tags": []
          },
          "execution_count": 17
        }
      ]
    },
    {
      "cell_type": "code",
      "metadata": {
        "id": "6-oPJOFfYkAO"
      },
      "source": [
        "#remove Duplicate Features\r\n",
        "x_train_T=x_train_f.T\r\n",
        "x_test_T=x_test_f.T"
      ],
      "execution_count": null,
      "outputs": []
    },
    {
      "cell_type": "code",
      "metadata": {
        "id": "priBbVz3Y6kx"
      },
      "source": [
        "x_train_T=pd.DataFrame(x_train_T)\r\n",
        "x_test_T=pd.DataFrame(x_test_T)"
      ],
      "execution_count": null,
      "outputs": []
    },
    {
      "cell_type": "code",
      "metadata": {
        "colab": {
          "base_uri": "https://localhost:8080/"
        },
        "id": "7L4avZRjZHO1",
        "outputId": "11b2dc26-fe32-4040-addd-385aad039adf"
      },
      "source": [
        "x_train_T.duplicated().sum()"
      ],
      "execution_count": null,
      "outputs": [
        {
          "output_type": "execute_result",
          "data": {
            "text/plain": [
              "18"
            ]
          },
          "metadata": {
            "tags": []
          },
          "execution_count": 20
        }
      ]
    },
    {
      "cell_type": "code",
      "metadata": {
        "id": "AQU5UrmpZLYV"
      },
      "source": [
        "df=x_train_T.duplicated()"
      ],
      "execution_count": null,
      "outputs": []
    },
    {
      "cell_type": "code",
      "metadata": {
        "id": "aV3oq7lhZWNp"
      },
      "source": [
        "ftk=[not index for index in df]\r\n",
        "x_train_unique=x_train_T[ftk].T\r\n",
        "x_test_unique=x_test_T[ftk].T"
      ],
      "execution_count": null,
      "outputs": []
    },
    {
      "cell_type": "code",
      "metadata": {
        "colab": {
          "base_uri": "https://localhost:8080/"
        },
        "id": "PXYNLmLjaNCi",
        "outputId": "16d63cbd-aae3-492d-c225-740cddf71aed"
      },
      "source": [
        "x_train_unique.shape,x_test_unique.shape"
      ],
      "execution_count": null,
      "outputs": [
        {
          "output_type": "execute_result",
          "data": {
            "text/plain": [
              "((27939, 233), (6985, 233))"
            ]
          },
          "metadata": {
            "tags": []
          },
          "execution_count": 23
        }
      ]
    },
    {
      "cell_type": "markdown",
      "metadata": {
        "id": "NLraS6R2aVPR"
      },
      "source": [
        "# **Now do F-Test**"
      ]
    },
    {
      "cell_type": "code",
      "metadata": {
        "id": "yfkAXcUTaS5r"
      },
      "source": [
        "sel=f_classif(x_train_unique,y_train)"
      ],
      "execution_count": null,
      "outputs": []
    },
    {
      "cell_type": "code",
      "metadata": {
        "colab": {
          "base_uri": "https://localhost:8080/"
        },
        "id": "IVy35lbNa-X-",
        "outputId": "ad15b68a-0b5a-49fb-f56e-f85d5f46906d"
      },
      "source": [
        "sel"
      ],
      "execution_count": null,
      "outputs": [
        {
          "output_type": "execute_result",
          "data": {
            "text/plain": [
              "(array([2.52327556e+00, 1.84797335e+00, 2.55958975e+02, 2.85223758e-01,\n",
              "        8.20505884e-01, 8.87263272e-02, 2.04011536e-01, 2.04312166e-03,\n",
              "        1.01402233e+01, 1.68132616e+01, 2.61461242e-01, 6.78096657e-01,\n",
              "        9.42514218e-02, 1.69999931e+01, 1.17281248e+01, 1.18511779e+01,\n",
              "        1.89564838e+01, 1.33676290e+01, 1.18178359e+01, 1.34241028e-01,\n",
              "        7.10618069e-01, 8.42379580e+00, 4.40484109e+02, 2.35922432e+01,\n",
              "        7.62375515e+00, 5.28619546e+01, 3.55102411e+01, 5.43206714e+01,\n",
              "        4.29018549e+01, 4.13986377e+01, 5.28287084e+01, 1.98279886e+01,\n",
              "        2.80887780e+01, 2.82435391e+01, 8.09548247e+00, 4.96102330e+00,\n",
              "        8.82937324e+00, 5.97720922e+00, 5.88737301e+02, 7.28591572e-01,\n",
              "        5.96178066e-01, 2.71654120e+01, 2.62220377e+01, 7.10618069e-01,\n",
              "        3.44222953e+00, 1.88871581e+02, 5.86177234e+00, 4.30573550e+02,\n",
              "        2.34521559e+01, 7.62375515e+00, 5.00507667e+01, 3.49507773e+01,\n",
              "        5.05252691e+01, 4.24634416e+01, 4.13683209e+01, 9.71955363e+00,\n",
              "        9.75203427e+00, 4.99462921e+01, 1.95540707e+01, 4.21744354e+00,\n",
              "        1.09049171e+00, 9.44753600e-01, 4.03478968e+00, 3.00269929e+00,\n",
              "        2.80612786e+01, 2.82321827e+01, 2.78132591e+00, 3.73320238e+00,\n",
              "        5.68486679e-04, 3.43096609e-02, 2.05264082e-02, 1.16235515e+00,\n",
              "        5.92583172e-01, 6.56805484e-02, 3.32667777e-01, 1.14740938e+00,\n",
              "        5.97109334e-01, 8.09784815e-02, 3.46831834e-01, 5.98416360e+01,\n",
              "        5.15724140e+02, 2.23215169e+00, 1.90383180e+00, 9.21388980e-01,\n",
              "        1.73514930e+02, 7.27881065e+00, 3.78565744e+00, 1.72917042e+01,\n",
              "        1.96333217e+01, 2.89434161e+01, 4.79166403e+02, 7.29142476e-01,\n",
              "        5.91747579e-01, 4.32530760e+00, 6.53215860e+00, 7.75868038e-02,\n",
              "        1.56466221e+00, 1.16814039e+01, 2.12259307e+01, 6.41405606e+00,\n",
              "        2.76345427e+01, 5.26431151e-01, 7.51058533e-02, 3.79656233e-01,\n",
              "        1.13328593e+01, 1.65329863e-01, 3.10683390e-01, 3.79196364e+01,\n",
              "        8.92840798e-02, 7.00669616e-01, 3.37503041e-01, 8.28638882e-02,\n",
              "        1.50824687e+01, 4.98350763e-03, 2.79835337e+02, 2.02616751e+00,\n",
              "        5.33531236e-01, 2.92673512e-02, 5.33531236e-01, 2.05143142e-01,\n",
              "        4.10225132e-02, 4.10225131e-02, 1.64108398e-01, 8.21031535e-01,\n",
              "        2.02616751e+00, 5.33531236e-01, 2.92673512e-02, 8.21031535e-01,\n",
              "        1.46386636e+01, 1.45567555e+00, 4.42003891e-02, 1.81038276e-01,\n",
              "        1.42887881e-01, 4.10225132e-02, 4.10225132e-02, 3.81289505e-02,\n",
              "        1.74937489e-01, 9.69145299e-02, 3.69667171e-01, 1.19123726e-01,\n",
              "        4.10225132e-02, 1.85522558e+00, 4.16946829e+00, 4.10225132e-02,\n",
              "        4.10225132e-02, 1.10705914e-01, 7.49987996e-02, 4.10225132e-02,\n",
              "        2.46033099e-01, 7.96582079e-02, 1.31117058e-01, 9.54399219e-03,\n",
              "        6.77650371e-03, 4.36208425e+00, 1.62784989e+01, 2.58633976e-01,\n",
              "        2.37517152e+01, 2.40075934e+00, 2.25161200e-01, 3.74085812e-01,\n",
              "        1.76180785e+00, 4.96577798e-01, 4.01961875e-01, 1.39571338e+00,\n",
              "        1.39371179e+00, 2.01043287e+00, 1.19392104e+01, 1.12378257e+00,\n",
              "        4.53180149e+00, 1.41903224e-01, 5.73091548e+02, 4.93019222e+00,\n",
              "        3.02771347e+01, 4.23752585e+01, 7.89956579e+00, 2.32335999e+00,\n",
              "        3.38172745e-01, 2.44560459e-01, 2.84692765e-02, 4.58693251e-02,\n",
              "        1.19897519e+01, 1.56587946e+01, 4.16244102e-01, 2.11761701e-01,\n",
              "        9.21404559e+00, 1.07679915e+01, 1.05091813e+01, 1.20300797e+01,\n",
              "        1.47031169e+00, 9.73357268e-02, 9.69542835e+00, 5.80392175e+00,\n",
              "        3.53364155e-01, 9.19878160e-01, 2.86931721e+00, 1.06956184e+00,\n",
              "        2.41460662e-01, 8.01520003e+00, 5.64731280e+00, 5.89601685e+00,\n",
              "        6.75971888e+00, 1.05839087e+00, 2.43622494e-01, 1.21224348e+00,\n",
              "        1.09970803e+00, 7.34577700e+00, 3.32275349e+00, 1.11825405e+01,\n",
              "        1.10890478e+01, 1.96564182e+01, 6.78638773e+00, 2.18074020e+01,\n",
              "        2.11522849e+01, 4.20696268e+00, 1.33722404e+00, 4.25955386e+00,\n",
              "        4.45094717e+00, 5.15411925e-02, 4.36457352e-02, 7.56186678e-02,\n",
              "        7.28309282e-02, 5.52972875e-02, 7.41286246e-02, 1.06882919e-01,\n",
              "        3.83034513e-01, 1.21535627e-01, 3.27333676e-01, 3.61535315e-01,\n",
              "        5.28080949e-01, 1.81140722e-01, 1.93202481e-01, 1.11332086e-01,\n",
              "        1.01760560e+01]),\n",
              " array([1.12188670e-001, 1.74030262e-001, 2.34658894e-057, 5.93301892e-001,\n",
              "        3.65040111e-001, 7.65804869e-001, 6.51505656e-001, 9.63947497e-001,\n",
              "        1.45227746e-003, 4.13606818e-005, 6.09122076e-001, 4.10249934e-001,\n",
              "        7.58842658e-001, 3.74878852e-005, 6.16510110e-004, 5.77092710e-004,\n",
              "        1.34209244e-005, 2.56474285e-004, 5.87514708e-004, 7.14077470e-001,\n",
              "        3.99245921e-001, 3.70631280e-003, 4.77203542e-097, 1.19710430e-006,\n",
              "        5.76420072e-003, 3.67227480e-013, 2.56750977e-009, 1.75020175e-013,\n",
              "        5.85553809e-011, 1.26153018e-010, 3.73484416e-013, 8.50609565e-006,\n",
              "        1.16754128e-007, 1.07790600e-007, 4.44079953e-003, 2.59327966e-002,\n",
              "        2.96672530e-003, 1.44980499e-002, 1.01512669e-128, 3.93347414e-001,\n",
              "        4.40046525e-001, 1.88097090e-007, 3.06348367e-007, 3.99245921e-001,\n",
              "        6.35604072e-002, 7.72891564e-043, 1.54795344e-002, 6.34691402e-095,\n",
              "        1.28743770e-006, 5.76420072e-003, 1.53347606e-012, 3.42071224e-009,\n",
              "        1.20463194e-012, 7.32410997e-011, 1.28121815e-010, 1.82502824e-003,\n",
              "        1.79307295e-003, 1.61718312e-012, 9.81608811e-006, 4.00196865e-002,\n",
              "        2.96371323e-001, 3.31066744e-001, 4.45808346e-002, 8.31369507e-002,\n",
              "        1.18423302e-007, 1.08424231e-007, 9.53803923e-002, 5.33511323e-002,\n",
              "        9.80978044e-001, 8.53051026e-001, 8.86077663e-001, 2.80986947e-001,\n",
              "        4.41428466e-001, 7.97734854e-001, 5.64097058e-001, 2.84101368e-001,\n",
              "        4.39689614e-001, 7.75977866e-001, 5.55916816e-001, 1.06261055e-014,\n",
              "        3.81859908e-113, 1.35176794e-001, 1.67661087e-001, 3.37118843e-001,\n",
              "        1.65723001e-039, 6.98146147e-003, 5.17036145e-002, 3.21539483e-005,\n",
              "        9.41751667e-006, 7.51224190e-008, 2.49494748e-105, 3.93168608e-001,\n",
              "        4.41750639e-001, 3.75587226e-002, 1.05993765e-002, 7.80596795e-001,\n",
              "        2.10994362e-001, 6.32178766e-004, 4.10005611e-006, 1.13274769e-002,\n",
              "        1.47614500e-007, 4.68117232e-001, 7.84044787e-001, 5.37792292e-001,\n",
              "        7.62501773e-004, 6.84299219e-001, 5.77265598e-001, 7.47234478e-010,\n",
              "        7.65091503e-001, 4.02565945e-001, 5.61278759e-001, 7.73455366e-001,\n",
              "        1.03151518e-004, 9.43721420e-001, 1.64420433e-062, 1.54621228e-001,\n",
              "        4.65132151e-001, 8.64164434e-001, 4.65132151e-001, 6.50604607e-001,\n",
              "        8.39495947e-001, 8.39495947e-001, 6.85404942e-001, 3.64886556e-001,\n",
              "        1.54621228e-001, 4.65132151e-001, 8.64164434e-001, 3.64886556e-001,\n",
              "        1.30498793e-004, 2.27629658e-001, 8.33482764e-001, 6.70485754e-001,\n",
              "        7.05429653e-001, 8.39495947e-001, 8.39495947e-001, 8.45185853e-001,\n",
              "        6.75763689e-001, 7.55566539e-001, 5.43190687e-001, 7.29989428e-001,\n",
              "        8.39495947e-001, 1.73187832e-001, 4.11680859e-002, 8.39495947e-001,\n",
              "        8.39495947e-001, 7.39344386e-001, 7.84194938e-001, 8.39495947e-001,\n",
              "        6.19886152e-001, 7.77763223e-001, 7.17279374e-001, 9.22176491e-001,\n",
              "        9.34393221e-001, 3.67563493e-002, 5.48263219e-005, 6.11064205e-001,\n",
              "        1.10198114e-006, 1.21287698e-001, 6.35138881e-001, 5.40790507e-001,\n",
              "        1.84410027e-001, 4.81013554e-001, 5.26082989e-001, 2.37452668e-001,\n",
              "        2.37789317e-001, 1.56231892e-001, 5.50463779e-004, 2.89114589e-001,\n",
              "        3.32792993e-002, 7.06399094e-001, 2.19005942e-125, 2.63993735e-002,\n",
              "        3.77799513e-008, 7.66136457e-011, 4.94810668e-003, 1.27455795e-001,\n",
              "        5.60890544e-001, 6.20935429e-001, 8.66011492e-001, 8.30415077e-001,\n",
              "        5.35739628e-004, 7.60464200e-005, 5.18822437e-001, 6.45393672e-001,\n",
              "        2.40386399e-003, 1.03397100e-003, 1.18922069e-003, 5.24276677e-004,\n",
              "        2.25306777e-001, 7.55052928e-001, 1.84913640e-003, 1.59968976e-002,\n",
              "        5.52219727e-001, 3.37515266e-001, 9.02943117e-002, 3.01053388e-001,\n",
              "        6.23156993e-001, 4.64194808e-003, 1.74888409e-002, 1.51814359e-002,\n",
              "        9.32875052e-003, 3.03591384e-001, 6.21605794e-001, 2.70897746e-001,\n",
              "        2.94339261e-001, 6.72615051e-003, 6.83379852e-002, 8.26791863e-004,\n",
              "        8.69514602e-004, 9.30444644e-006, 9.19042629e-003, 3.02836012e-006,\n",
              "        4.26054603e-006, 4.02676668e-002, 2.47533996e-001, 3.90393833e-002,\n",
              "        3.48907642e-002, 8.20404522e-001, 8.34515635e-001, 7.83327117e-001,\n",
              "        7.87260677e-001, 8.14091123e-001, 7.85419721e-001, 7.43723633e-001,\n",
              "        5.35988721e-001, 7.27377536e-001, 5.67237954e-001, 5.47659674e-001,\n",
              "        4.67420876e-001, 6.70398028e-001, 6.60267879e-001, 7.38635147e-001,\n",
              "        1.42433304e-003]))"
            ]
          },
          "metadata": {
            "tags": []
          },
          "execution_count": 25
        }
      ]
    },
    {
      "cell_type": "code",
      "metadata": {
        "id": "oguPjolda-3A"
      },
      "source": [
        "pv=pd.Series(sel[1])\r\n",
        "pv.index=x_train_unique.columns\r\n",
        "pv.sort_values(ascending=True,inplace=True)"
      ],
      "execution_count": null,
      "outputs": []
    },
    {
      "cell_type": "code",
      "metadata": {
        "colab": {
          "base_uri": "https://localhost:8080/",
          "height": 346
        },
        "id": "2PDz8SX1bOWs",
        "outputId": "3819c664-7f9e-4d22-b384-93041706bab6"
      },
      "source": [
        "pv.plot.bar(figsize=(16,5))"
      ],
      "execution_count": null,
      "outputs": [
        {
          "output_type": "execute_result",
          "data": {
            "text/plain": [
              "<matplotlib.axes._subplots.AxesSubplot at 0x7f22b88d5748>"
            ]
          },
          "metadata": {
            "tags": []
          },
          "execution_count": 27
        },
        {
          "output_type": "display_data",
          "data": {
            "image/png": "[encoded data removed]",
            "text/plain": [
              "<Figure size 1152x360 with 1 Axes>"
            ]
          },
          "metadata": {
            "tags": [],
            "needs_background": "light"
          }
        }
      ]
    },
    {
      "cell_type": "code",
      "metadata": {
        "colab": {
          "base_uri": "https://localhost:8080/"
        },
        "id": "wGyec1Rbqm-P",
        "outputId": "cf38dbbe-ebe5-4d81-ba0c-7e06fbf4d6c5"
      },
      "source": [
        "pv"
      ],
      "execution_count": null,
      "outputs": [
        {
          "output_type": "execute_result",
          "data": {
            "text/plain": [
              "40     1.015127e-128\n",
              "188    2.190059e-125\n",
              "86     3.818599e-113\n",
              "101    2.494947e-105\n",
              "22      4.772035e-97\n",
              "           ...      \n",
              "169     9.221765e-01\n",
              "170     9.343932e-01\n",
              "126     9.437214e-01\n",
              "7       9.639475e-01\n",
              "74      9.809780e-01\n",
              "Length: 233, dtype: float64"
            ]
          },
          "metadata": {
            "tags": []
          },
          "execution_count": 28
        }
      ]
    },
    {
      "cell_type": "code",
      "metadata": {
        "id": "qp0LtHD7bWkF"
      },
      "source": [
        "pv=pv[pv<0.05]"
      ],
      "execution_count": null,
      "outputs": []
    },
    {
      "cell_type": "code",
      "metadata": {
        "colab": {
          "base_uri": "https://localhost:8080/"
        },
        "id": "hgZR_ws5ba9A",
        "outputId": "9aecaef2-e4b0-4c89-b16c-b5341cf48e8e"
      },
      "source": [
        "pv.index"
      ],
      "execution_count": null,
      "outputs": [
        {
          "output_type": "execute_result",
          "data": {
            "text/plain": [
              "Int64Index([ 40, 188,  86, 101,  22,  51, 127,   2,  49,  91,  85,  27,  25,\n",
              "             30,  56,  54,  61,  28,  57, 191,  29,  58, 119,  26,  55, 190,\n",
              "            100,  33,  69,  32,  68, 111,  44,  46, 174,  23,  52, 229, 109,\n",
              "            230,  31, 227,  98,  62,  16,  95,  13,   9, 172, 199, 125, 146,\n",
              "             17, 205, 198, 184,  15,  18,  14, 108, 115, 225, 226, 203, 204,\n",
              "            250,   8,  60,  59, 208, 202,  36,  21,  34, 215, 192,  24,  53,\n",
              "            223,  92, 228, 218, 105, 110,  38, 217,  50, 209, 216,  35, 189,\n",
              "            186, 234, 171, 104, 233,  63, 231, 160,  66],\n",
              "           dtype='int64')"
            ]
          },
          "metadata": {
            "tags": []
          },
          "execution_count": 30
        }
      ]
    },
    {
      "cell_type": "code",
      "metadata": {
        "id": "VtTq_GsnbcCU"
      },
      "source": [
        "x_train_p=x_train_unique[pv.index]\r\n",
        "x_test_p=x_test_unique[pv.index]"
      ],
      "execution_count": null,
      "outputs": []
    },
    {
      "cell_type": "markdown",
      "metadata": {
        "id": "SZ1ac93NfjFt"
      },
      "source": [
        "# **Build the Classifiers and compare the Performance**"
      ]
    },
    {
      "cell_type": "code",
      "metadata": {
        "id": "Kzbth6hafhA7"
      },
      "source": [
        "def run_randomForest(x_train,x_test,y_train,y_test):\r\n",
        "  clf=RandomForestClassifier(n_estimators=100,random_state=0,n_jobs=-1)\r\n",
        "  clf.fit(x_train,y_train)\r\n",
        "  y_pred=clf.predict(x_test)\r\n",
        "  print('Accuracy',accuracy_score(y_test,y_pred))"
      ],
      "execution_count": null,
      "outputs": []
    },
    {
      "cell_type": "code",
      "metadata": {
        "id": "e0t2avhae8MC",
        "colab": {
          "base_uri": "https://localhost:8080/"
        },
        "outputId": "d28e97e2-2ddf-4d0e-ba44-f4ee0ed26e45"
      },
      "source": [
        "%%time\r\n",
        "run_randomForest(x_train_p,x_test_p,y_train,y_test)"
      ],
      "execution_count": null,
      "outputs": [
        {
          "output_type": "stream",
          "text": [
            "Accuracy 0.9549033643521833\n",
            "CPU times: user 8.04 s, sys: 38.5 ms, total: 8.08 s\n",
            "Wall time: 4.3 s\n"
          ],
          "name": "stdout"
        }
      ]
    },
    {
      "cell_type": "code",
      "metadata": {
        "id": "lnKKu9aogp9T",
        "colab": {
          "base_uri": "https://localhost:8080/"
        },
        "outputId": "a2e5c70c-a07e-4868-e711-a7b96a29c49e"
      },
      "source": [
        "%%time\r\n",
        "run_randomForest(x_train,x_test,y_train,y_test)"
      ],
      "execution_count": null,
      "outputs": [
        {
          "output_type": "stream",
          "text": [
            "Accuracy 0.960486757337151\n",
            "CPU times: user 13.3 s, sys: 57.8 ms, total: 13.4 s\n",
            "Wall time: 7.02 s\n"
          ],
          "name": "stdout"
        }
      ]
    },
    {
      "cell_type": "code",
      "metadata": {
        "id": "SBdNo9tWgzb7"
      },
      "source": [
        ""
      ],
      "execution_count": null,
      "outputs": []
    }
  ]
}