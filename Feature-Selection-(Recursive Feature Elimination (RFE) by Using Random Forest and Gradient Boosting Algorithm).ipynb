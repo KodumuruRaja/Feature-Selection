{
  "nbformat": 4,
  "nbformat_minor": 0,
  "metadata": {
    "colab": {
      "name": "Feature Selection (KGP Talkie)Recursive Feature Elimination (RFE) by Using Random Forest and Gradient Boosting Algorithm.ipynb",
      "provenance": [],
      "collapsed_sections": [],
      "authorship_tag": "ABX9TyNlSUU/geo70r2iIfFJ2W6r",
      "include_colab_link": true
    },
    "kernelspec": {
      "name": "python3",
      "display_name": "Python 3"
    }
  },
  "cells": [
    {
      "cell_type": "markdown",
      "metadata": {
        "id": "view-in-github",
        "colab_type": "text"
      },
      "source": [
        "<a href=\"https://colab.research.google.com/github/KodumuruRaja/Feature-Selection/blob/main/Feature-Selection-(Recursive%20Feature%20Elimination%20(RFE)%20by%20Using%20Random%20Forest%20and%20Gradient%20Boosting%20Algorithm).ipynb\" target=\"_parent\"><img src=\"https://colab.research.google.com/assets/colab-badge.svg\" alt=\"Open In Colab\"/></a>"
      ]
    },
    {
      "cell_type": "code",
      "metadata": {
        "id": "4SWnyxPPvGYf"
      },
      "source": [
        "import numpy as np\r\n",
        "import pandas as pd\r\n",
        "import seaborn as sns\r\n",
        "import matplotlib.pyplot as plt"
      ],
      "execution_count": null,
      "outputs": []
    },
    {
      "cell_type": "code",
      "metadata": {
        "id": "T2wBZEE25Dy0"
      },
      "source": [
        "from sklearn.model_selection import train_test_split\r\n",
        "from sklearn.ensemble import RandomForestClassifier\r\n",
        "from sklearn.feature_selection import SelectFromModel\r\n",
        "from sklearn.metrics import accuracy_score"
      ],
      "execution_count": null,
      "outputs": []
    },
    {
      "cell_type": "code",
      "metadata": {
        "id": "5gfHriKn5iMc"
      },
      "source": [
        "from sklearn.datasets import load_breast_cancer"
      ],
      "execution_count": null,
      "outputs": []
    },
    {
      "cell_type": "code",
      "metadata": {
        "id": "ePWFBwF15nuh"
      },
      "source": [
        "data=load_breast_cancer()"
      ],
      "execution_count": null,
      "outputs": []
    },
    {
      "cell_type": "code",
      "metadata": {
        "colab": {
          "base_uri": "https://localhost:8080/"
        },
        "id": "e1dw7V185u0Q",
        "outputId": "160a55c8-fc8b-46e0-ef21-2626bed9da38"
      },
      "source": [
        "data.keys()"
      ],
      "execution_count": null,
      "outputs": [
        {
          "output_type": "execute_result",
          "data": {
            "text/plain": [
              "dict_keys(['data', 'target', 'target_names', 'DESCR', 'feature_names', 'filename'])"
            ]
          },
          "metadata": {
            "tags": []
          },
          "execution_count": 5
        }
      ]
    },
    {
      "cell_type": "code",
      "metadata": {
        "colab": {
          "base_uri": "https://localhost:8080/",
          "height": 120
        },
        "id": "2HLzvySu5yaB",
        "outputId": "7f28f60e-f670-4308-c282-13c9cf514913"
      },
      "source": [
        "data.DESCR"
      ],
      "execution_count": null,
      "outputs": [
        {
          "output_type": "execute_result",
          "data": {
            "application/vnd.google.colaboratory.intrinsic+json": {
              "type": "string"
            },
            "text/plain": [
              "'.. _breast_cancer_dataset:\\n\\nBreast cancer wisconsin (diagnostic) dataset\\n--------------------------------------------\\n\\n**Data Set Characteristics:**\\n\\n    :Number of Instances: 569\\n\\n    :Number of Attributes: 30 numeric, predictive attributes and the class\\n\\n    :Attribute Information:\\n        - radius (mean of distances from center to points on the perimeter)\\n        - texture (standard deviation of gray-scale values)\\n        - perimeter\\n        - area\\n        - smoothness (local variation in radius lengths)\\n        - compactness (perimeter^2 / area - 1.0)\\n        - concavity (severity of concave portions of the contour)\\n        - concave points (number of concave portions of the contour)\\n        - symmetry \\n        - fractal dimension (\"coastline approximation\" - 1)\\n\\n        The mean, standard error, and \"worst\" or largest (mean of the three\\n        largest values) of these features were computed for each image,\\n        resulting in 30 features.  For instance, field 3 is Mean Radius, field\\n        13 is Radius SE, field 23 is Worst Radius.\\n\\n        - class:\\n                - WDBC-Malignant\\n                - WDBC-Benign\\n\\n    :Summary Statistics:\\n\\n    ===================================== ====== ======\\n                                           Min    Max\\n    ===================================== ====== ======\\n    radius (mean):                        6.981  28.11\\n    texture (mean):                       9.71   39.28\\n    perimeter (mean):                     43.79  188.5\\n    area (mean):                          143.5  2501.0\\n    smoothness (mean):                    0.053  0.163\\n    compactness (mean):                   0.019  0.345\\n    concavity (mean):                     0.0    0.427\\n    concave points (mean):                0.0    0.201\\n    symmetry (mean):                      0.106  0.304\\n    fractal dimension (mean):             0.05   0.097\\n    radius (standard error):              0.112  2.873\\n    texture (standard error):             0.36   4.885\\n    perimeter (standard error):           0.757  21.98\\n    area (standard error):                6.802  542.2\\n    smoothness (standard error):          0.002  0.031\\n    compactness (standard error):         0.002  0.135\\n    concavity (standard error):           0.0    0.396\\n    concave points (standard error):      0.0    0.053\\n    symmetry (standard error):            0.008  0.079\\n    fractal dimension (standard error):   0.001  0.03\\n    radius (worst):                       7.93   36.04\\n    texture (worst):                      12.02  49.54\\n    perimeter (worst):                    50.41  251.2\\n    area (worst):                         185.2  4254.0\\n    smoothness (worst):                   0.071  0.223\\n    compactness (worst):                  0.027  1.058\\n    concavity (worst):                    0.0    1.252\\n    concave points (worst):               0.0    0.291\\n    symmetry (worst):                     0.156  0.664\\n    fractal dimension (worst):            0.055  0.208\\n    ===================================== ====== ======\\n\\n    :Missing Attribute Values: None\\n\\n    :Class Distribution: 212 - Malignant, 357 - Benign\\n\\n    :Creator:  Dr. William H. Wolberg, W. Nick Street, Olvi L. Mangasarian\\n\\n    :Donor: Nick Street\\n\\n    :Date: November, 1995\\n\\nThis is a copy of UCI ML Breast Cancer Wisconsin (Diagnostic) datasets.\\nhttps://goo.gl/U2Uwz2\\n\\nFeatures are computed from a digitized image of a fine needle\\naspirate (FNA) of a breast mass.  They describe\\ncharacteristics of the cell nuclei present in the image.\\n\\nSeparating plane described above was obtained using\\nMultisurface Method-Tree (MSM-T) [K. P. Bennett, \"Decision Tree\\nConstruction Via Linear Programming.\" Proceedings of the 4th\\nMidwest Artificial Intelligence and Cognitive Science Society,\\npp. 97-101, 1992], a classification method which uses linear\\nprogramming to construct a decision tree.  Relevant features\\nwere selected using an exhaustive search in the space of 1-4\\nfeatures and 1-3 separating planes.\\n\\nThe actual linear program used to obtain the separating plane\\nin the 3-dimensional space is that described in:\\n[K. P. Bennett and O. L. Mangasarian: \"Robust Linear\\nProgramming Discrimination of Two Linearly Inseparable Sets\",\\nOptimization Methods and Software 1, 1992, 23-34].\\n\\nThis database is also available through the UW CS ftp server:\\n\\nftp ftp.cs.wisc.edu\\ncd math-prog/cpo-dataset/machine-learn/WDBC/\\n\\n.. topic:: References\\n\\n   - W.N. Street, W.H. Wolberg and O.L. Mangasarian. Nuclear feature extraction \\n     for breast tumor diagnosis. IS&T/SPIE 1993 International Symposium on \\n     Electronic Imaging: Science and Technology, volume 1905, pages 861-870,\\n     San Jose, CA, 1993.\\n   - O.L. Mangasarian, W.N. Street and W.H. Wolberg. Breast cancer diagnosis and \\n     prognosis via linear programming. Operations Research, 43(4), pages 570-577, \\n     July-August 1995.\\n   - W.H. Wolberg, W.N. Street, and O.L. Mangasarian. Machine learning techniques\\n     to diagnose breast cancer from fine-needle aspirates. Cancer Letters 77 (1994) \\n     163-171.'"
            ]
          },
          "metadata": {
            "tags": []
          },
          "execution_count": 6
        }
      ]
    },
    {
      "cell_type": "code",
      "metadata": {
        "colab": {
          "base_uri": "https://localhost:8080/",
          "height": 249
        },
        "id": "JPmuW0XA50mq",
        "outputId": "2601a66d-2f32-46b3-ab7a-dfdc5cd05fd1"
      },
      "source": [
        "x=pd.DataFrame(data=data.data,columns=data.feature_names)\r\n",
        "x.head()"
      ],
      "execution_count": null,
      "outputs": [
        {
          "output_type": "execute_result",
          "data": {
            "text/html": [
              "<div>\n",
              "<style scoped>\n",
              "    .dataframe tbody tr th:only-of-type {\n",
              "        vertical-align: middle;\n",
              "    }\n",
              "\n",
              "    .dataframe tbody tr th {\n",
              "        vertical-align: top;\n",
              "    }\n",
              "\n",
              "    .dataframe thead th {\n",
              "        text-align: right;\n",
              "    }\n",
              "</style>\n",
              "<table border=\"1\" class=\"dataframe\">\n",
              "  <thead>\n",
              "    <tr style=\"text-align: right;\">\n",
              "      <th></th>\n",
              "      <th>mean radius</th>\n",
              "      <th>mean texture</th>\n",
              "      <th>mean perimeter</th>\n",
              "      <th>mean area</th>\n",
              "      <th>mean smoothness</th>\n",
              "      <th>mean compactness</th>\n",
              "      <th>mean concavity</th>\n",
              "      <th>mean concave points</th>\n",
              "      <th>mean symmetry</th>\n",
              "      <th>mean fractal dimension</th>\n",
              "      <th>radius error</th>\n",
              "      <th>texture error</th>\n",
              "      <th>perimeter error</th>\n",
              "      <th>area error</th>\n",
              "      <th>smoothness error</th>\n",
              "      <th>compactness error</th>\n",
              "      <th>concavity error</th>\n",
              "      <th>concave points error</th>\n",
              "      <th>symmetry error</th>\n",
              "      <th>fractal dimension error</th>\n",
              "      <th>worst radius</th>\n",
              "      <th>worst texture</th>\n",
              "      <th>worst perimeter</th>\n",
              "      <th>worst area</th>\n",
              "      <th>worst smoothness</th>\n",
              "      <th>worst compactness</th>\n",
              "      <th>worst concavity</th>\n",
              "      <th>worst concave points</th>\n",
              "      <th>worst symmetry</th>\n",
              "      <th>worst fractal dimension</th>\n",
              "    </tr>\n",
              "  </thead>\n",
              "  <tbody>\n",
              "    <tr>\n",
              "      <th>0</th>\n",
              "      <td>17.99</td>\n",
              "      <td>10.38</td>\n",
              "      <td>122.80</td>\n",
              "      <td>1001.0</td>\n",
              "      <td>0.11840</td>\n",
              "      <td>0.27760</td>\n",
              "      <td>0.3001</td>\n",
              "      <td>0.14710</td>\n",
              "      <td>0.2419</td>\n",
              "      <td>0.07871</td>\n",
              "      <td>1.0950</td>\n",
              "      <td>0.9053</td>\n",
              "      <td>8.589</td>\n",
              "      <td>153.40</td>\n",
              "      <td>0.006399</td>\n",
              "      <td>0.04904</td>\n",
              "      <td>0.05373</td>\n",
              "      <td>0.01587</td>\n",
              "      <td>0.03003</td>\n",
              "      <td>0.006193</td>\n",
              "      <td>25.38</td>\n",
              "      <td>17.33</td>\n",
              "      <td>184.60</td>\n",
              "      <td>2019.0</td>\n",
              "      <td>0.1622</td>\n",
              "      <td>0.6656</td>\n",
              "      <td>0.7119</td>\n",
              "      <td>0.2654</td>\n",
              "      <td>0.4601</td>\n",
              "      <td>0.11890</td>\n",
              "    </tr>\n",
              "    <tr>\n",
              "      <th>1</th>\n",
              "      <td>20.57</td>\n",
              "      <td>17.77</td>\n",
              "      <td>132.90</td>\n",
              "      <td>1326.0</td>\n",
              "      <td>0.08474</td>\n",
              "      <td>0.07864</td>\n",
              "      <td>0.0869</td>\n",
              "      <td>0.07017</td>\n",
              "      <td>0.1812</td>\n",
              "      <td>0.05667</td>\n",
              "      <td>0.5435</td>\n",
              "      <td>0.7339</td>\n",
              "      <td>3.398</td>\n",
              "      <td>74.08</td>\n",
              "      <td>0.005225</td>\n",
              "      <td>0.01308</td>\n",
              "      <td>0.01860</td>\n",
              "      <td>0.01340</td>\n",
              "      <td>0.01389</td>\n",
              "      <td>0.003532</td>\n",
              "      <td>24.99</td>\n",
              "      <td>23.41</td>\n",
              "      <td>158.80</td>\n",
              "      <td>1956.0</td>\n",
              "      <td>0.1238</td>\n",
              "      <td>0.1866</td>\n",
              "      <td>0.2416</td>\n",
              "      <td>0.1860</td>\n",
              "      <td>0.2750</td>\n",
              "      <td>0.08902</td>\n",
              "    </tr>\n",
              "    <tr>\n",
              "      <th>2</th>\n",
              "      <td>19.69</td>\n",
              "      <td>21.25</td>\n",
              "      <td>130.00</td>\n",
              "      <td>1203.0</td>\n",
              "      <td>0.10960</td>\n",
              "      <td>0.15990</td>\n",
              "      <td>0.1974</td>\n",
              "      <td>0.12790</td>\n",
              "      <td>0.2069</td>\n",
              "      <td>0.05999</td>\n",
              "      <td>0.7456</td>\n",
              "      <td>0.7869</td>\n",
              "      <td>4.585</td>\n",
              "      <td>94.03</td>\n",
              "      <td>0.006150</td>\n",
              "      <td>0.04006</td>\n",
              "      <td>0.03832</td>\n",
              "      <td>0.02058</td>\n",
              "      <td>0.02250</td>\n",
              "      <td>0.004571</td>\n",
              "      <td>23.57</td>\n",
              "      <td>25.53</td>\n",
              "      <td>152.50</td>\n",
              "      <td>1709.0</td>\n",
              "      <td>0.1444</td>\n",
              "      <td>0.4245</td>\n",
              "      <td>0.4504</td>\n",
              "      <td>0.2430</td>\n",
              "      <td>0.3613</td>\n",
              "      <td>0.08758</td>\n",
              "    </tr>\n",
              "    <tr>\n",
              "      <th>3</th>\n",
              "      <td>11.42</td>\n",
              "      <td>20.38</td>\n",
              "      <td>77.58</td>\n",
              "      <td>386.1</td>\n",
              "      <td>0.14250</td>\n",
              "      <td>0.28390</td>\n",
              "      <td>0.2414</td>\n",
              "      <td>0.10520</td>\n",
              "      <td>0.2597</td>\n",
              "      <td>0.09744</td>\n",
              "      <td>0.4956</td>\n",
              "      <td>1.1560</td>\n",
              "      <td>3.445</td>\n",
              "      <td>27.23</td>\n",
              "      <td>0.009110</td>\n",
              "      <td>0.07458</td>\n",
              "      <td>0.05661</td>\n",
              "      <td>0.01867</td>\n",
              "      <td>0.05963</td>\n",
              "      <td>0.009208</td>\n",
              "      <td>14.91</td>\n",
              "      <td>26.50</td>\n",
              "      <td>98.87</td>\n",
              "      <td>567.7</td>\n",
              "      <td>0.2098</td>\n",
              "      <td>0.8663</td>\n",
              "      <td>0.6869</td>\n",
              "      <td>0.2575</td>\n",
              "      <td>0.6638</td>\n",
              "      <td>0.17300</td>\n",
              "    </tr>\n",
              "    <tr>\n",
              "      <th>4</th>\n",
              "      <td>20.29</td>\n",
              "      <td>14.34</td>\n",
              "      <td>135.10</td>\n",
              "      <td>1297.0</td>\n",
              "      <td>0.10030</td>\n",
              "      <td>0.13280</td>\n",
              "      <td>0.1980</td>\n",
              "      <td>0.10430</td>\n",
              "      <td>0.1809</td>\n",
              "      <td>0.05883</td>\n",
              "      <td>0.7572</td>\n",
              "      <td>0.7813</td>\n",
              "      <td>5.438</td>\n",
              "      <td>94.44</td>\n",
              "      <td>0.011490</td>\n",
              "      <td>0.02461</td>\n",
              "      <td>0.05688</td>\n",
              "      <td>0.01885</td>\n",
              "      <td>0.01756</td>\n",
              "      <td>0.005115</td>\n",
              "      <td>22.54</td>\n",
              "      <td>16.67</td>\n",
              "      <td>152.20</td>\n",
              "      <td>1575.0</td>\n",
              "      <td>0.1374</td>\n",
              "      <td>0.2050</td>\n",
              "      <td>0.4000</td>\n",
              "      <td>0.1625</td>\n",
              "      <td>0.2364</td>\n",
              "      <td>0.07678</td>\n",
              "    </tr>\n",
              "  </tbody>\n",
              "</table>\n",
              "</div>"
            ],
            "text/plain": [
              "   mean radius  mean texture  ...  worst symmetry  worst fractal dimension\n",
              "0        17.99         10.38  ...          0.4601                  0.11890\n",
              "1        20.57         17.77  ...          0.2750                  0.08902\n",
              "2        19.69         21.25  ...          0.3613                  0.08758\n",
              "3        11.42         20.38  ...          0.6638                  0.17300\n",
              "4        20.29         14.34  ...          0.2364                  0.07678\n",
              "\n",
              "[5 rows x 30 columns]"
            ]
          },
          "metadata": {
            "tags": []
          },
          "execution_count": 7
        }
      ]
    },
    {
      "cell_type": "code",
      "metadata": {
        "id": "EdQaJbwiMk9O"
      },
      "source": [
        "y=data.target"
      ],
      "execution_count": null,
      "outputs": []
    },
    {
      "cell_type": "code",
      "metadata": {
        "id": "QOjnzZM_MrT3"
      },
      "source": [
        "x_train,x_test,y_train,y_test=train_test_split(x,y,test_size=0.2,random_state=0)"
      ],
      "execution_count": null,
      "outputs": []
    },
    {
      "cell_type": "code",
      "metadata": {
        "colab": {
          "base_uri": "https://localhost:8080/"
        },
        "id": "hmsXu0gIM4ey",
        "outputId": "6f3e2b52-3149-48ff-9094-9e05a54560dc"
      },
      "source": [
        "x_train.shape,y_train.shape"
      ],
      "execution_count": null,
      "outputs": [
        {
          "output_type": "execute_result",
          "data": {
            "text/plain": [
              "((455, 30), (455,))"
            ]
          },
          "metadata": {
            "tags": []
          },
          "execution_count": 10
        }
      ]
    },
    {
      "cell_type": "markdown",
      "metadata": {
        "id": "NbgBkud3M90N"
      },
      "source": [
        "# **Feature Slection by feature importance of random forest classifier**"
      ]
    },
    {
      "cell_type": "code",
      "metadata": {
        "colab": {
          "base_uri": "https://localhost:8080/"
        },
        "id": "_yIfuDR5M8YF",
        "outputId": "a3125403-bc63-404e-dc26-4ff6bf64687e"
      },
      "source": [
        "sel=SelectFromModel(RandomForestClassifier(n_estimators=100,random_state=0,n_jobs=-1))\r\n",
        "sel.fit(x_train,y_train)\r\n",
        "sel.get_support()"
      ],
      "execution_count": null,
      "outputs": [
        {
          "output_type": "execute_result",
          "data": {
            "text/plain": [
              "array([ True, False,  True,  True, False, False,  True,  True, False,\n",
              "       False, False, False, False,  True, False, False, False, False,\n",
              "       False, False,  True, False,  True,  True, False, False, False,\n",
              "        True, False, False])"
            ]
          },
          "metadata": {
            "tags": []
          },
          "execution_count": 11
        }
      ]
    },
    {
      "cell_type": "code",
      "metadata": {
        "colab": {
          "base_uri": "https://localhost:8080/"
        },
        "id": "pgdHtU6KNiiW",
        "outputId": "a9c3808b-e9bd-4bcc-d5ab-1bece2cfac40"
      },
      "source": [
        "x_train.columns"
      ],
      "execution_count": null,
      "outputs": [
        {
          "output_type": "execute_result",
          "data": {
            "text/plain": [
              "Index(['mean radius', 'mean texture', 'mean perimeter', 'mean area',\n",
              "       'mean smoothness', 'mean compactness', 'mean concavity',\n",
              "       'mean concave points', 'mean symmetry', 'mean fractal dimension',\n",
              "       'radius error', 'texture error', 'perimeter error', 'area error',\n",
              "       'smoothness error', 'compactness error', 'concavity error',\n",
              "       'concave points error', 'symmetry error', 'fractal dimension error',\n",
              "       'worst radius', 'worst texture', 'worst perimeter', 'worst area',\n",
              "       'worst smoothness', 'worst compactness', 'worst concavity',\n",
              "       'worst concave points', 'worst symmetry', 'worst fractal dimension'],\n",
              "      dtype='object')"
            ]
          },
          "metadata": {
            "tags": []
          },
          "execution_count": 12
        }
      ]
    },
    {
      "cell_type": "code",
      "metadata": {
        "id": "7xHVM3aaNqUn"
      },
      "source": [
        "features=x_train.columns[sel.get_support()]"
      ],
      "execution_count": null,
      "outputs": []
    },
    {
      "cell_type": "code",
      "metadata": {
        "colab": {
          "base_uri": "https://localhost:8080/"
        },
        "id": "z1jzX-I3Nyn9",
        "outputId": "ef08305c-6c0c-426a-9f29-d1a9ce5038e2"
      },
      "source": [
        "features"
      ],
      "execution_count": null,
      "outputs": [
        {
          "output_type": "execute_result",
          "data": {
            "text/plain": [
              "Index(['mean radius', 'mean perimeter', 'mean area', 'mean concavity',\n",
              "       'mean concave points', 'area error', 'worst radius', 'worst perimeter',\n",
              "       'worst area', 'worst concave points'],\n",
              "      dtype='object')"
            ]
          },
          "metadata": {
            "tags": []
          },
          "execution_count": 14
        }
      ]
    },
    {
      "cell_type": "code",
      "metadata": {
        "colab": {
          "base_uri": "https://localhost:8080/"
        },
        "id": "phLYngUVNzna",
        "outputId": "66ac6476-d128-4c83-bb1a-0c6ad8a1b418"
      },
      "source": [
        "len(features)"
      ],
      "execution_count": null,
      "outputs": [
        {
          "output_type": "execute_result",
          "data": {
            "text/plain": [
              "10"
            ]
          },
          "metadata": {
            "tags": []
          },
          "execution_count": 15
        }
      ]
    },
    {
      "cell_type": "code",
      "metadata": {
        "colab": {
          "base_uri": "https://localhost:8080/"
        },
        "id": "KP_u_lfjN5sv",
        "outputId": "86e9b735-4038-4300-b67f-54e31469fe78"
      },
      "source": [
        "np.mean(sel.estimator_.feature_importances_)"
      ],
      "execution_count": null,
      "outputs": [
        {
          "output_type": "execute_result",
          "data": {
            "text/plain": [
              "0.03333333333333334"
            ]
          },
          "metadata": {
            "tags": []
          },
          "execution_count": 16
        }
      ]
    },
    {
      "cell_type": "code",
      "metadata": {
        "colab": {
          "base_uri": "https://localhost:8080/"
        },
        "id": "Fv8GWA88OA04",
        "outputId": "07a2255d-3ccf-4c8c-cd85-6cb7fd7022fe"
      },
      "source": [
        "sel.estimator_.feature_importances_"
      ],
      "execution_count": null,
      "outputs": [
        {
          "output_type": "execute_result",
          "data": {
            "text/plain": [
              "array([0.03699612, 0.01561296, 0.06016409, 0.0371452 , 0.0063401 ,\n",
              "       0.00965994, 0.0798662 , 0.08669071, 0.00474992, 0.00417092,\n",
              "       0.02407355, 0.00548033, 0.01254423, 0.03880038, 0.00379521,\n",
              "       0.00435162, 0.00452503, 0.00556905, 0.00610635, 0.00528878,\n",
              "       0.09556258, 0.01859305, 0.17205401, 0.05065305, 0.00943096,\n",
              "       0.01565491, 0.02443166, 0.14202709, 0.00964898, 0.01001304])"
            ]
          },
          "metadata": {
            "tags": []
          },
          "execution_count": 17
        }
      ]
    },
    {
      "cell_type": "code",
      "metadata": {
        "id": "-xHKhQtAOGaS"
      },
      "source": [
        "x_train_rfc=sel.transform(x_train)\r\n",
        "x_test_rfc=sel.transform(x_test)"
      ],
      "execution_count": null,
      "outputs": []
    },
    {
      "cell_type": "code",
      "metadata": {
        "id": "COoBOjvcOPKk"
      },
      "source": [
        "def run(x_train,x_test,y_train,y_test):\r\n",
        "  clf=RandomForestClassifier(n_estimators=100,random_state=0,n_jobs=-1)\r\n",
        "  clf.fit(x_train,y_train)\r\n",
        "  y_pred=clf.predict(x_test)\r\n",
        "  print(\"Accuracy:\",accuracy_score(y_test,y_pred))"
      ],
      "execution_count": null,
      "outputs": []
    },
    {
      "cell_type": "code",
      "metadata": {
        "colab": {
          "base_uri": "https://localhost:8080/"
        },
        "id": "tAK9SbffOuc1",
        "outputId": "fb619c5b-8aca-48be-f049-f2f40f6f31e7"
      },
      "source": [
        "%%time\r\n",
        "run(x_train_rfc,x_test_rfc,y_train,y_test)"
      ],
      "execution_count": null,
      "outputs": [
        {
          "output_type": "stream",
          "text": [
            "Accuracy: 0.9473684210526315\n",
            "CPU times: user 345 ms, sys: 64.3 ms, total: 409 ms\n",
            "Wall time: 458 ms\n"
          ],
          "name": "stdout"
        }
      ]
    },
    {
      "cell_type": "code",
      "metadata": {
        "colab": {
          "base_uri": "https://localhost:8080/"
        },
        "id": "xvcnsxquPiPS",
        "outputId": "f8143ce0-3a5d-43fa-bc52-9c9f5e31ef76"
      },
      "source": [
        "%%time\r\n",
        "run(x_train,x_test,y_train,y_test)"
      ],
      "execution_count": null,
      "outputs": [
        {
          "output_type": "stream",
          "text": [
            "Accuracy: 0.9649122807017544\n",
            "CPU times: user 404 ms, sys: 58.4 ms, total: 463 ms\n",
            "Wall time: 461 ms\n"
          ],
          "name": "stdout"
        }
      ]
    },
    {
      "cell_type": "markdown",
      "metadata": {
        "id": "J5Ya9gESPrMg"
      },
      "source": [
        "# **Recursive Feature Elimination**"
      ]
    },
    {
      "cell_type": "code",
      "metadata": {
        "colab": {
          "base_uri": "https://localhost:8080/"
        },
        "id": "qARVNQjIPoGp",
        "outputId": "15cb8058-8673-4501-f1a5-f0e81ef33da6"
      },
      "source": [
        "from sklearn.feature_selection import RFE\r\n",
        "sel=RFE(RandomForestClassifier(n_estimators=100,random_state=0,n_jobs=-1),n_features_to_select=15)\r\n",
        "sel.fit(x_train,y_train)"
      ],
      "execution_count": null,
      "outputs": [
        {
          "output_type": "execute_result",
          "data": {
            "text/plain": [
              "RFE(estimator=RandomForestClassifier(bootstrap=True, ccp_alpha=0.0,\n",
              "                                     class_weight=None, criterion='gini',\n",
              "                                     max_depth=None, max_features='auto',\n",
              "                                     max_leaf_nodes=None, max_samples=None,\n",
              "                                     min_impurity_decrease=0.0,\n",
              "                                     min_impurity_split=None,\n",
              "                                     min_samples_leaf=1, min_samples_split=2,\n",
              "                                     min_weight_fraction_leaf=0.0,\n",
              "                                     n_estimators=100, n_jobs=-1,\n",
              "                                     oob_score=False, random_state=0, verbose=0,\n",
              "                                     warm_start=False),\n",
              "    n_features_to_select=15, step=1, verbose=0)"
            ]
          },
          "metadata": {
            "tags": []
          },
          "execution_count": 22
        }
      ]
    },
    {
      "cell_type": "code",
      "metadata": {
        "colab": {
          "base_uri": "https://localhost:8080/"
        },
        "id": "YjFuf6fkQt5B",
        "outputId": "91a35069-9e2b-4246-c74b-ada0986cd22d"
      },
      "source": [
        "sel.get_support()"
      ],
      "execution_count": null,
      "outputs": [
        {
          "output_type": "execute_result",
          "data": {
            "text/plain": [
              "array([ True,  True,  True,  True, False, False,  True,  True, False,\n",
              "       False, False, False, False,  True, False, False, False, False,\n",
              "       False, False,  True,  True,  True,  True,  True, False,  True,\n",
              "        True,  True, False])"
            ]
          },
          "metadata": {
            "tags": []
          },
          "execution_count": 23
        }
      ]
    },
    {
      "cell_type": "code",
      "metadata": {
        "id": "FnffWTTHQwW0"
      },
      "source": [
        "features=x_train.columns[sel.get_support()]"
      ],
      "execution_count": null,
      "outputs": []
    },
    {
      "cell_type": "code",
      "metadata": {
        "colab": {
          "base_uri": "https://localhost:8080/"
        },
        "id": "qo1dUFn6Q1rB",
        "outputId": "cf287b4b-daf7-49fb-9e05-7eb62185b80f"
      },
      "source": [
        "features"
      ],
      "execution_count": null,
      "outputs": [
        {
          "output_type": "execute_result",
          "data": {
            "text/plain": [
              "Index(['mean radius', 'mean texture', 'mean perimeter', 'mean area',\n",
              "       'mean concavity', 'mean concave points', 'area error', 'worst radius',\n",
              "       'worst texture', 'worst perimeter', 'worst area', 'worst smoothness',\n",
              "       'worst concavity', 'worst concave points', 'worst symmetry'],\n",
              "      dtype='object')"
            ]
          },
          "metadata": {
            "tags": []
          },
          "execution_count": 25
        }
      ]
    },
    {
      "cell_type": "code",
      "metadata": {
        "colab": {
          "base_uri": "https://localhost:8080/"
        },
        "id": "bK1jY5AeRCxp",
        "outputId": "d7808322-fee8-40ce-b474-664e5716fc10"
      },
      "source": [
        "len(features)"
      ],
      "execution_count": null,
      "outputs": [
        {
          "output_type": "execute_result",
          "data": {
            "text/plain": [
              "15"
            ]
          },
          "metadata": {
            "tags": []
          },
          "execution_count": 26
        }
      ]
    },
    {
      "cell_type": "code",
      "metadata": {
        "id": "G4977wI5RESb"
      },
      "source": [
        "x_train_rfe=sel.transform(x_train)\r\n",
        "x_test_rfe=sel.transform(x_test)"
      ],
      "execution_count": null,
      "outputs": []
    },
    {
      "cell_type": "code",
      "metadata": {
        "colab": {
          "base_uri": "https://localhost:8080/"
        },
        "id": "CN6nbQmgRIqc",
        "outputId": "408d6f59-8711-425a-9ff9-11f0b097ed74"
      },
      "source": [
        "%%time\r\n",
        "run(x_train_rfe,x_test_rfe,y_train,y_test)"
      ],
      "execution_count": null,
      "outputs": [
        {
          "output_type": "stream",
          "text": [
            "Accuracy: 0.9736842105263158\n",
            "CPU times: user 356 ms, sys: 52.2 ms, total: 408 ms\n",
            "Wall time: 459 ms\n"
          ],
          "name": "stdout"
        }
      ]
    },
    {
      "cell_type": "code",
      "metadata": {
        "colab": {
          "base_uri": "https://localhost:8080/"
        },
        "id": "w2Q-y6NoR0mR",
        "outputId": "d26e3166-d3ad-4798-e78b-fba06988a356"
      },
      "source": [
        "%%time\r\n",
        "run(x_train,x_test,y_train,y_test)"
      ],
      "execution_count": null,
      "outputs": [
        {
          "output_type": "stream",
          "text": [
            "Accuracy: 0.9649122807017544\n",
            "CPU times: user 406 ms, sys: 48.3 ms, total: 454 ms\n",
            "Wall time: 459 ms\n"
          ],
          "name": "stdout"
        }
      ]
    },
    {
      "cell_type": "markdown",
      "metadata": {
        "id": "CYCV_VsKU-1J"
      },
      "source": [
        "# **Feature Selection by GradientBoost Tree Importance**"
      ]
    },
    {
      "cell_type": "code",
      "metadata": {
        "id": "tKkPbFzsR6KG"
      },
      "source": [
        "from sklearn.ensemble import GradientBoostingClassifier"
      ],
      "execution_count": null,
      "outputs": []
    },
    {
      "cell_type": "code",
      "metadata": {
        "colab": {
          "base_uri": "https://localhost:8080/"
        },
        "id": "KetE0NwEVK_h",
        "outputId": "87935c07-866f-4115-914a-fc60a6426b13"
      },
      "source": [
        "sel=RFE(GradientBoostingClassifier(n_estimators=100,random_state=0),n_features_to_select=12)\r\n",
        "sel.fit(x_train,y_train)"
      ],
      "execution_count": null,
      "outputs": [
        {
          "output_type": "execute_result",
          "data": {
            "text/plain": [
              "RFE(estimator=GradientBoostingClassifier(ccp_alpha=0.0,\n",
              "                                         criterion='friedman_mse', init=None,\n",
              "                                         learning_rate=0.1, loss='deviance',\n",
              "                                         max_depth=3, max_features=None,\n",
              "                                         max_leaf_nodes=None,\n",
              "                                         min_impurity_decrease=0.0,\n",
              "                                         min_impurity_split=None,\n",
              "                                         min_samples_leaf=1,\n",
              "                                         min_samples_split=2,\n",
              "                                         min_weight_fraction_leaf=0.0,\n",
              "                                         n_estimators=100,\n",
              "                                         n_iter_no_change=None,\n",
              "                                         presort='deprecated', random_state=0,\n",
              "                                         subsample=1.0, tol=0.0001,\n",
              "                                         validation_fraction=0.1, verbose=0,\n",
              "                                         warm_start=False),\n",
              "    n_features_to_select=12, step=1, verbose=0)"
            ]
          },
          "metadata": {
            "tags": []
          },
          "execution_count": 31
        }
      ]
    },
    {
      "cell_type": "code",
      "metadata": {
        "colab": {
          "base_uri": "https://localhost:8080/"
        },
        "id": "l9-UJHk7VYMZ",
        "outputId": "5945cf09-a89d-4ba4-c147-5f482e0e2473"
      },
      "source": [
        "sel.get_support()"
      ],
      "execution_count": null,
      "outputs": [
        {
          "output_type": "execute_result",
          "data": {
            "text/plain": [
              "array([False,  True, False, False,  True, False, False,  True,  True,\n",
              "       False, False, False, False,  True, False, False,  True, False,\n",
              "       False, False,  True,  True,  True,  True, False, False,  True,\n",
              "        True, False, False])"
            ]
          },
          "metadata": {
            "tags": []
          },
          "execution_count": 32
        }
      ]
    },
    {
      "cell_type": "code",
      "metadata": {
        "id": "puzT3c60Vjpb"
      },
      "source": [
        "features=x_train.columns[sel.get_support()]"
      ],
      "execution_count": null,
      "outputs": []
    },
    {
      "cell_type": "code",
      "metadata": {
        "colab": {
          "base_uri": "https://localhost:8080/"
        },
        "id": "h_uFN6ggVsg6",
        "outputId": "9092997b-488a-43dc-d197-fac434d26037"
      },
      "source": [
        "features"
      ],
      "execution_count": null,
      "outputs": [
        {
          "output_type": "execute_result",
          "data": {
            "text/plain": [
              "Index(['mean texture', 'mean smoothness', 'mean concave points',\n",
              "       'mean symmetry', 'area error', 'concavity error', 'worst radius',\n",
              "       'worst texture', 'worst perimeter', 'worst area', 'worst concavity',\n",
              "       'worst concave points'],\n",
              "      dtype='object')"
            ]
          },
          "metadata": {
            "tags": []
          },
          "execution_count": 34
        }
      ]
    },
    {
      "cell_type": "code",
      "metadata": {
        "colab": {
          "base_uri": "https://localhost:8080/"
        },
        "id": "_r9FlWSeVub3",
        "outputId": "d1296fc6-48d2-4fc8-cd9c-2cdc0d7a9f67"
      },
      "source": [
        "len(features)"
      ],
      "execution_count": null,
      "outputs": [
        {
          "output_type": "execute_result",
          "data": {
            "text/plain": [
              "12"
            ]
          },
          "metadata": {
            "tags": []
          },
          "execution_count": 35
        }
      ]
    },
    {
      "cell_type": "code",
      "metadata": {
        "id": "EjVJl_VDVwK2"
      },
      "source": [
        "x_train_rfc=sel.transform(x_train)\r\n",
        "x_test_rfc=sel.transform(x_test)"
      ],
      "execution_count": null,
      "outputs": []
    },
    {
      "cell_type": "code",
      "metadata": {
        "colab": {
          "base_uri": "https://localhost:8080/"
        },
        "id": "MqsnlKHWV7d5",
        "outputId": "5e1b2b0b-7396-4dee-db65-e9444cdf3e63"
      },
      "source": [
        "%%time\r\n",
        "run(x_train_rfe,x_test_rfe,y_train,y_test)"
      ],
      "execution_count": null,
      "outputs": [
        {
          "output_type": "stream",
          "text": [
            "Accuracy: 0.9736842105263158\n",
            "CPU times: user 451 ms, sys: 0 ns, total: 451 ms\n",
            "Wall time: 477 ms\n"
          ],
          "name": "stdout"
        }
      ]
    },
    {
      "cell_type": "code",
      "metadata": {
        "colab": {
          "base_uri": "https://localhost:8080/"
        },
        "id": "OoDt8qDMWNGi",
        "outputId": "7ccdad68-5d74-462a-9285-5bef7341d0df"
      },
      "source": [
        "%%time\r\n",
        "run(x_train,x_test,y_train,y_test)"
      ],
      "execution_count": null,
      "outputs": [
        {
          "output_type": "stream",
          "text": [
            "Accuracy: 0.9649122807017544\n",
            "CPU times: user 410 ms, sys: 63.4 ms, total: 474 ms\n",
            "Wall time: 476 ms\n"
          ],
          "name": "stdout"
        }
      ]
    },
    {
      "cell_type": "code",
      "metadata": {
        "colab": {
          "base_uri": "https://localhost:8080/"
        },
        "id": "Z0R5GO5zWPAf",
        "outputId": "3688aacf-b7dc-4425-c6d1-d95bd2ea7485"
      },
      "source": [
        "for index in range(1,31):\r\n",
        "  sel=RFE(GradientBoostingClassifier(n_estimators=100,random_state=0),n_features_to_select=index)\r\n",
        "  sel.fit(x_train,y_train)\r\n",
        "  x_train_rfe=sel.transform(x_train)\r\n",
        "  x_test_rfe=sel.transform(x_test)\r\n",
        "  print(\"Selected Feature:\",index)\r\n",
        "  run(x_train_rfe,x_test_rfe,y_train,y_test)\r\n",
        "  print()"
      ],
      "execution_count": null,
      "outputs": [
        {
          "output_type": "stream",
          "text": [
            "Selected Feature: 1\n",
            "Accuracy: 0.8771929824561403\n",
            "\n",
            "Selected Feature: 2\n",
            "Accuracy: 0.9035087719298246\n",
            "\n",
            "Selected Feature: 3\n",
            "Accuracy: 0.9649122807017544\n",
            "\n",
            "Selected Feature: 4\n",
            "Accuracy: 0.9736842105263158\n",
            "\n",
            "Selected Feature: 5\n",
            "Accuracy: 0.9649122807017544\n",
            "\n",
            "Selected Feature: 6\n",
            "Accuracy: 0.9912280701754386\n",
            "\n",
            "Selected Feature: 7\n",
            "Accuracy: 0.9736842105263158\n",
            "\n",
            "Selected Feature: 8\n",
            "Accuracy: 0.9649122807017544\n",
            "\n",
            "Selected Feature: 9\n",
            "Accuracy: 0.9736842105263158\n",
            "\n",
            "Selected Feature: 10\n",
            "Accuracy: 0.956140350877193\n",
            "\n",
            "Selected Feature: 11\n",
            "Accuracy: 0.956140350877193\n",
            "\n",
            "Selected Feature: 12\n",
            "Accuracy: 0.9736842105263158\n",
            "\n",
            "Selected Feature: 13\n",
            "Accuracy: 0.956140350877193\n",
            "\n",
            "Selected Feature: 14\n",
            "Accuracy: 0.956140350877193\n",
            "\n",
            "Selected Feature: 15\n",
            "Accuracy: 0.9649122807017544\n",
            "\n",
            "Selected Feature: 16\n",
            "Accuracy: 0.956140350877193\n",
            "\n",
            "Selected Feature: 17\n",
            "Accuracy: 0.9649122807017544\n",
            "\n",
            "Selected Feature: 18\n",
            "Accuracy: 0.9473684210526315\n",
            "\n",
            "Selected Feature: 19\n",
            "Accuracy: 0.9649122807017544\n",
            "\n",
            "Selected Feature: 20\n",
            "Accuracy: 0.9473684210526315\n",
            "\n",
            "Selected Feature: 21\n",
            "Accuracy: 0.9649122807017544\n",
            "\n",
            "Selected Feature: 22\n",
            "Accuracy: 0.9649122807017544\n",
            "\n",
            "Selected Feature: 23\n",
            "Accuracy: 0.9649122807017544\n",
            "\n",
            "Selected Feature: 24\n",
            "Accuracy: 0.9649122807017544\n",
            "\n",
            "Selected Feature: 25\n",
            "Accuracy: 0.9736842105263158\n",
            "\n",
            "Selected Feature: 26\n",
            "Accuracy: 0.9736842105263158\n",
            "\n",
            "Selected Feature: 27\n",
            "Accuracy: 0.9649122807017544\n",
            "\n",
            "Selected Feature: 28\n",
            "Accuracy: 0.9649122807017544\n",
            "\n",
            "Selected Feature: 29\n",
            "Accuracy: 0.9649122807017544\n",
            "\n",
            "Selected Feature: 30\n",
            "Accuracy: 0.9649122807017544\n",
            "\n"
          ],
          "name": "stdout"
        }
      ]
    },
    {
      "cell_type": "code",
      "metadata": {
        "colab": {
          "base_uri": "https://localhost:8080/"
        },
        "id": "0Hd4QuymXcV6",
        "outputId": "1fe4d39a-7684-408a-8b78-a175335491c4"
      },
      "source": [
        "sel=RFE(GradientBoostingClassifier(n_estimators=100,random_state=0),n_features_to_select=6)\r\n",
        "sel.fit(x_train,y_train)\r\n",
        "x_train_rfe=sel.transform(x_train)\r\n",
        "x_test_rfe=sel.transform(x_test)\r\n",
        "print(\"Selected Feature:\",6)\r\n",
        "run(x_train_rfe,x_test_rfe,y_train,y_test)\r\n",
        "print()\r\n"
      ],
      "execution_count": null,
      "outputs": [
        {
          "output_type": "stream",
          "text": [
            "Selected Feature: 6\n",
            "Accuracy: 0.9912280701754386\n",
            "\n"
          ],
          "name": "stdout"
        }
      ]
    },
    {
      "cell_type": "code",
      "metadata": {
        "colab": {
          "base_uri": "https://localhost:8080/"
        },
        "id": "82tqI1gfYCih",
        "outputId": "58e5d812-f393-40a2-cb68-f98c540c2bc0"
      },
      "source": [
        "features=x_train.columns[sel.get_support()]\r\n",
        "features"
      ],
      "execution_count": null,
      "outputs": [
        {
          "output_type": "execute_result",
          "data": {
            "text/plain": [
              "Index(['mean concave points', 'area error', 'worst texture', 'worst perimeter',\n",
              "       'worst area', 'worst concave points'],\n",
              "      dtype='object')"
            ]
          },
          "metadata": {
            "tags": []
          },
          "execution_count": 41
        }
      ]
    },
    {
      "cell_type": "code",
      "metadata": {
        "colab": {
          "base_uri": "https://localhost:8080/"
        },
        "id": "8xoJS6kpYwFI",
        "outputId": "919c8e61-8ed3-4e50-dc94-61014788e90a"
      },
      "source": [
        "for index in range(1,31):\r\n",
        "  sel=RFE(GradientBoostingClassifier(n_estimators=100,random_state=0),n_features_to_select=index)\r\n",
        "  sel.fit(x_train,y_train)\r\n",
        "  x_train_rfe=sel.transform(x_train)\r\n",
        "  x_test_rfe=sel.transform(x_test)\r\n",
        "  print(\"Selected Feature:\",index)\r\n",
        "  run(x_train_rfe,x_test_rfe,y_train,y_test)\r\n",
        "  print()"
      ],
      "execution_count": null,
      "outputs": [
        {
          "output_type": "stream",
          "text": [
            "Selected Feature: 1\n",
            "Accuracy: 0.8771929824561403\n",
            "\n",
            "Selected Feature: 2\n",
            "Accuracy: 0.9035087719298246\n",
            "\n",
            "Selected Feature: 3\n",
            "Accuracy: 0.9649122807017544\n",
            "\n",
            "Selected Feature: 4\n",
            "Accuracy: 0.9736842105263158\n",
            "\n",
            "Selected Feature: 5\n",
            "Accuracy: 0.9649122807017544\n",
            "\n",
            "Selected Feature: 6\n",
            "Accuracy: 0.9912280701754386\n",
            "\n",
            "Selected Feature: 7\n",
            "Accuracy: 0.9736842105263158\n",
            "\n",
            "Selected Feature: 8\n",
            "Accuracy: 0.9649122807017544\n",
            "\n",
            "Selected Feature: 9\n",
            "Accuracy: 0.9736842105263158\n",
            "\n",
            "Selected Feature: 10\n",
            "Accuracy: 0.956140350877193\n",
            "\n",
            "Selected Feature: 11\n",
            "Accuracy: 0.956140350877193\n",
            "\n",
            "Selected Feature: 12\n",
            "Accuracy: 0.9736842105263158\n",
            "\n",
            "Selected Feature: 13\n",
            "Accuracy: 0.956140350877193\n",
            "\n",
            "Selected Feature: 14\n",
            "Accuracy: 0.956140350877193\n",
            "\n",
            "Selected Feature: 15\n",
            "Accuracy: 0.9649122807017544\n",
            "\n",
            "Selected Feature: 16\n",
            "Accuracy: 0.956140350877193\n",
            "\n",
            "Selected Feature: 17\n",
            "Accuracy: 0.9649122807017544\n",
            "\n",
            "Selected Feature: 18\n",
            "Accuracy: 0.9473684210526315\n",
            "\n",
            "Selected Feature: 19\n",
            "Accuracy: 0.9649122807017544\n",
            "\n",
            "Selected Feature: 20\n",
            "Accuracy: 0.9473684210526315\n",
            "\n",
            "Selected Feature: 21\n",
            "Accuracy: 0.9649122807017544\n",
            "\n",
            "Selected Feature: 22\n",
            "Accuracy: 0.9649122807017544\n",
            "\n",
            "Selected Feature: 23\n",
            "Accuracy: 0.9649122807017544\n",
            "\n",
            "Selected Feature: 24\n",
            "Accuracy: 0.9649122807017544\n",
            "\n",
            "Selected Feature: 25\n",
            "Accuracy: 0.9736842105263158\n",
            "\n",
            "Selected Feature: 26\n",
            "Accuracy: 0.9736842105263158\n",
            "\n",
            "Selected Feature: 27\n",
            "Accuracy: 0.9649122807017544\n",
            "\n",
            "Selected Feature: 28\n",
            "Accuracy: 0.9649122807017544\n",
            "\n",
            "Selected Feature: 29\n",
            "Accuracy: 0.9649122807017544\n",
            "\n",
            "Selected Feature: 30\n",
            "Accuracy: 0.9649122807017544\n",
            "\n"
          ],
          "name": "stdout"
        }
      ]
    },
    {
      "cell_type": "code",
      "metadata": {
        "id": "ryfPwCrEY70j"
      },
      "source": [
        ""
      ],
      "execution_count": null,
      "outputs": []
    }
  ]
}